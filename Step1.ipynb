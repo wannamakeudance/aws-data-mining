{
 "cells": [
  {
   "cell_type": "markdown",
   "id": "5d1dc967",
   "metadata": {},
   "source": [
    "## 1. Import Dataset By PySpark"
   ]
  },
  {
   "cell_type": "code",
   "execution_count": 21,
   "id": "f090a001",
   "metadata": {},
   "outputs": [],
   "source": [
    "import findspark\n",
    "findspark.init('/home/ubuntu/spark-3.2.1-bin-hadoop2.7')\n",
    "import pyspark\n",
    "from pyspark.sql import SparkSession\n",
    "spark = SparkSession.builder.appName('basics').getOrCreate()"
   ]
  },
  {
   "cell_type": "code",
   "execution_count": 22,
   "id": "bf0394ae",
   "metadata": {},
   "outputs": [],
   "source": [
    "df = spark.read.option(\"header\",\"true\").csv('./SBAnational.csv')"
   ]
  },
  {
   "cell_type": "markdown",
   "id": "7765ad25",
   "metadata": {},
   "source": [
    "## 2. Conducting SQL"
   ]
  },
  {
   "cell_type": "code",
   "execution_count": null,
   "id": "3dfadc1d",
   "metadata": {},
   "outputs": [],
   "source": [
    "# First, we have to register the DataFrame as a SQL temporary view.\n",
    "df.createOrReplaceTempView('SBAData')"
   ]
  },
  {
   "cell_type": "markdown",
   "id": "e7c5680c",
   "metadata": {},
   "source": [
    "## 3. Data Exploration"
   ]
  },
  {
   "cell_type": "code",
   "execution_count": 14,
   "id": "5c02d2d7",
   "metadata": {},
   "outputs": [
    {
     "data": {
      "text/plain": [
       "['LoanNr_ChkDgt',\n",
       " 'Name',\n",
       " 'City',\n",
       " 'State',\n",
       " 'Zip',\n",
       " 'Bank',\n",
       " 'BankState',\n",
       " 'NAICS',\n",
       " 'ApprovalDate',\n",
       " 'ApprovalFY',\n",
       " 'Term',\n",
       " 'NoEmp',\n",
       " 'NewExist',\n",
       " 'CreateJob',\n",
       " 'RetainedJob',\n",
       " 'FranchiseCode',\n",
       " 'UrbanRural',\n",
       " 'RevLineCr',\n",
       " 'LowDoc',\n",
       " 'ChgOffDate',\n",
       " 'DisbursementDate',\n",
       " 'DisbursementGross',\n",
       " 'BalanceGross',\n",
       " 'MIS_Status',\n",
       " 'ChgOffPrinGr',\n",
       " 'GrAppv',\n",
       " 'SBA_Appv']"
      ]
     },
     "execution_count": 14,
     "metadata": {},
     "output_type": "execute_result"
    }
   ],
   "source": [
    "df.columns"
   ]
  },
  {
   "cell_type": "code",
   "execution_count": 16,
   "id": "abed2f48",
   "metadata": {},
   "outputs": [
    {
     "name": "stderr",
     "output_type": "stream",
     "text": [
      "                                                                                \r"
     ]
    },
    {
     "data": {
      "text/plain": [
       "DataFrame[summary: string, LoanNr_ChkDgt: string, Name: string, City: string, State: string, Zip: string, Bank: string, BankState: string, NAICS: string, ApprovalDate: string, ApprovalFY: string, Term: string, NoEmp: string, NewExist: string, CreateJob: string, RetainedJob: string, FranchiseCode: string, UrbanRural: string, RevLineCr: string, LowDoc: string, ChgOffDate: string, DisbursementDate: string, DisbursementGross: string, BalanceGross: string, MIS_Status: string, ChgOffPrinGr: string, GrAppv: string, SBA_Appv: string]"
      ]
     },
     "execution_count": 16,
     "metadata": {},
     "output_type": "execute_result"
    }
   ],
   "source": [
    "df.describe()"
   ]
  },
  {
   "cell_type": "code",
   "execution_count": 17,
   "id": "e787de37",
   "metadata": {},
   "outputs": [
    {
     "name": "stdout",
     "output_type": "stream",
     "text": [
      "root\n",
      " |-- LoanNr_ChkDgt: string (nullable = true)\n",
      " |-- Name: string (nullable = true)\n",
      " |-- City: string (nullable = true)\n",
      " |-- State: string (nullable = true)\n",
      " |-- Zip: string (nullable = true)\n",
      " |-- Bank: string (nullable = true)\n",
      " |-- BankState: string (nullable = true)\n",
      " |-- NAICS: string (nullable = true)\n",
      " |-- ApprovalDate: string (nullable = true)\n",
      " |-- ApprovalFY: string (nullable = true)\n",
      " |-- Term: string (nullable = true)\n",
      " |-- NoEmp: string (nullable = true)\n",
      " |-- NewExist: string (nullable = true)\n",
      " |-- CreateJob: string (nullable = true)\n",
      " |-- RetainedJob: string (nullable = true)\n",
      " |-- FranchiseCode: string (nullable = true)\n",
      " |-- UrbanRural: string (nullable = true)\n",
      " |-- RevLineCr: string (nullable = true)\n",
      " |-- LowDoc: string (nullable = true)\n",
      " |-- ChgOffDate: string (nullable = true)\n",
      " |-- DisbursementDate: string (nullable = true)\n",
      " |-- DisbursementGross: string (nullable = true)\n",
      " |-- BalanceGross: string (nullable = true)\n",
      " |-- MIS_Status: string (nullable = true)\n",
      " |-- ChgOffPrinGr: string (nullable = true)\n",
      " |-- GrAppv: string (nullable = true)\n",
      " |-- SBA_Appv: string (nullable = true)\n",
      "\n"
     ]
    }
   ],
   "source": [
    "df.printSchema()"
   ]
  }
 ],
 "metadata": {
  "kernelspec": {
   "display_name": "Python 3 (ipykernel)",
   "language": "python",
   "name": "python3"
  },
  "language_info": {
   "codemirror_mode": {
    "name": "ipython",
    "version": 3
   },
   "file_extension": ".py",
   "mimetype": "text/x-python",
   "name": "python",
   "nbconvert_exporter": "python",
   "pygments_lexer": "ipython3",
   "version": "3.10.4"
  }
 },
 "nbformat": 4,
 "nbformat_minor": 5
}
