{
 "cells": [
  {
   "cell_type": "markdown",
   "id": "5d1dc967",
   "metadata": {},
   "source": [
    "## 1. Import Dataset By PySpark"
   ]
  },
  {
   "cell_type": "code",
   "execution_count": 1,
   "id": "f090a001",
   "metadata": {},
   "outputs": [
    {
     "name": "stderr",
     "output_type": "stream",
     "text": [
      "WARNING: An illegal reflective access operation has occurred\n",
      "WARNING: Illegal reflective access by org.apache.spark.unsafe.Platform (file:/home/ubuntu/spark-3.2.1-bin-hadoop2.7/jars/spark-unsafe_2.12-3.2.1.jar) to constructor java.nio.DirectByteBuffer(long,int)\n",
      "WARNING: Please consider reporting this to the maintainers of org.apache.spark.unsafe.Platform\n",
      "WARNING: Use --illegal-access=warn to enable warnings of further illegal reflective access operations\n",
      "WARNING: All illegal access operations will be denied in a future release\n",
      "Using Spark's default log4j profile: org/apache/spark/log4j-defaults.properties\n",
      "Setting default log level to \"WARN\".\n",
      "To adjust logging level use sc.setLogLevel(newLevel). For SparkR, use setLogLevel(newLevel).\n",
      "22/10/11 11:04:19 WARN NativeCodeLoader: Unable to load native-hadoop library for your platform... using builtin-java classes where applicable\n"
     ]
    }
   ],
   "source": [
    "import findspark\n",
    "findspark.init('/home/ubuntu/spark-3.2.1-bin-hadoop2.7')\n",
    "import pyspark\n",
    "from pyspark.sql import SparkSession\n",
    "spark = SparkSession.builder.appName('basics').getOrCreate()"
   ]
  },
  {
   "cell_type": "code",
   "execution_count": 2,
   "id": "bf0394ae",
   "metadata": {},
   "outputs": [
    {
     "name": "stderr",
     "output_type": "stream",
     "text": [
      "                                                                                \r"
     ]
    }
   ],
   "source": [
    "df = spark.read.csv('./SBAnational.csv', header=True, inferSchema=True)"
   ]
  },
  {
   "cell_type": "markdown",
   "id": "7765ad25",
   "metadata": {},
   "source": [
    "## 2. Conducting SQL"
   ]
  },
  {
   "cell_type": "code",
   "execution_count": 3,
   "id": "3dfadc1d",
   "metadata": {},
   "outputs": [
    {
     "name": "stderr",
     "output_type": "stream",
     "text": [
      "22/10/11 10:15:15 WARN package: Truncated the string representation of a plan since it was too large. This behavior can be adjusted by setting 'spark.sql.debug.maxToStringFields'.\n"
     ]
    }
   ],
   "source": [
    "# First, we have to register the DataFrame as a SQL temporary view.\n",
    "df.createOrReplaceTempView('SBAData')"
   ]
  },
  {
   "cell_type": "markdown",
   "id": "e7c5680c",
   "metadata": {},
   "source": [
    "## 3. Data Description "
   ]
  },
  {
   "cell_type": "code",
   "execution_count": 4,
   "id": "b8c68e7c",
   "metadata": {},
   "outputs": [
    {
     "data": {
      "text/plain": [
       "[Row(LoanNr_ChkDgt=1000014003, Name='ABC HOBBYCRAFT', City='EVANSVILLE', State='IN', Zip='47711', Bank='FIFTH THIRD BANK', BankState='OH', NAICS='451120', ApprovalDate='28-Feb-97', ApprovalFY='1997', Term=84, NoEmp=4, NewExist=2, CreateJob=0, RetainedJob=0, FranchiseCode=1, UrbanRural=0, RevLineCr='N', LowDoc='Y', ChgOffDate=None, DisbursementDate='28-Feb-99', DisbursementGross='$60,000.00 ', BalanceGross='$0.00 ', MIS_Status='P I F', ChgOffPrinGr='$0.00 ', GrAppv='$60,000.00 ', SBA_Appv='$48,000.00 '),\n",
       " Row(LoanNr_ChkDgt=1000024006, Name='LANDMARK BAR & GRILLE (THE)', City='NEW PARIS', State='IN', Zip='46526', Bank='1ST SOURCE BANK', BankState='IN', NAICS='722410', ApprovalDate='28-Feb-97', ApprovalFY='1997', Term=60, NoEmp=2, NewExist=2, CreateJob=0, RetainedJob=0, FranchiseCode=1, UrbanRural=0, RevLineCr='N', LowDoc='Y', ChgOffDate=None, DisbursementDate='31-May-97', DisbursementGross='$40,000.00 ', BalanceGross='$0.00 ', MIS_Status='P I F', ChgOffPrinGr='$0.00 ', GrAppv='$40,000.00 ', SBA_Appv='$32,000.00 '),\n",
       " Row(LoanNr_ChkDgt=1000034009, Name='WHITLOCK DDS, TODD M.', City='BLOOMINGTON', State='IN', Zip='47401', Bank='GRANT COUNTY STATE BANK', BankState='IN', NAICS='621210', ApprovalDate='28-Feb-97', ApprovalFY='1997', Term=180, NoEmp=7, NewExist=1, CreateJob=0, RetainedJob=0, FranchiseCode=1, UrbanRural=0, RevLineCr='N', LowDoc='N', ChgOffDate=None, DisbursementDate='31-Dec-97', DisbursementGross='$287,000.00 ', BalanceGross='$0.00 ', MIS_Status='P I F', ChgOffPrinGr='$0.00 ', GrAppv='$287,000.00 ', SBA_Appv='$215,250.00 '),\n",
       " Row(LoanNr_ChkDgt=1000044001, Name='BIG BUCKS PAWN & JEWELRY, LLC', City='BROKEN ARROW', State='OK', Zip='74012', Bank='1ST NATL BK & TR CO OF BROKEN', BankState='OK', NAICS='0', ApprovalDate='28-Feb-97', ApprovalFY='1997', Term=60, NoEmp=2, NewExist=1, CreateJob=0, RetainedJob=0, FranchiseCode=1, UrbanRural=0, RevLineCr='N', LowDoc='Y', ChgOffDate=None, DisbursementDate='30-Jun-97', DisbursementGross='$35,000.00 ', BalanceGross='$0.00 ', MIS_Status='P I F', ChgOffPrinGr='$0.00 ', GrAppv='$35,000.00 ', SBA_Appv='$28,000.00 '),\n",
       " Row(LoanNr_ChkDgt=1000054004, Name='ANASTASIA CONFECTIONS, INC.', City='ORLANDO', State='FL', Zip='32801', Bank='FLORIDA BUS. DEVEL CORP', BankState='FL', NAICS='0', ApprovalDate='28-Feb-97', ApprovalFY='1997', Term=240, NoEmp=14, NewExist=1, CreateJob=7, RetainedJob=7, FranchiseCode=1, UrbanRural=0, RevLineCr='N', LowDoc='N', ChgOffDate=None, DisbursementDate='14-May-97', DisbursementGross='$229,000.00 ', BalanceGross='$0.00 ', MIS_Status='P I F', ChgOffPrinGr='$0.00 ', GrAppv='$229,000.00 ', SBA_Appv='$229,000.00 ')]"
      ]
     },
     "execution_count": 4,
     "metadata": {},
     "output_type": "execute_result"
    }
   ],
   "source": [
    "df.head(5)"
   ]
  },
  {
   "cell_type": "code",
   "execution_count": 5,
   "id": "5c02d2d7",
   "metadata": {},
   "outputs": [
    {
     "data": {
      "text/plain": [
       "['LoanNr_ChkDgt',\n",
       " 'Name',\n",
       " 'City',\n",
       " 'State',\n",
       " 'Zip',\n",
       " 'Bank',\n",
       " 'BankState',\n",
       " 'NAICS',\n",
       " 'ApprovalDate',\n",
       " 'ApprovalFY',\n",
       " 'Term',\n",
       " 'NoEmp',\n",
       " 'NewExist',\n",
       " 'CreateJob',\n",
       " 'RetainedJob',\n",
       " 'FranchiseCode',\n",
       " 'UrbanRural',\n",
       " 'RevLineCr',\n",
       " 'LowDoc',\n",
       " 'ChgOffDate',\n",
       " 'DisbursementDate',\n",
       " 'DisbursementGross',\n",
       " 'BalanceGross',\n",
       " 'MIS_Status',\n",
       " 'ChgOffPrinGr',\n",
       " 'GrAppv',\n",
       " 'SBA_Appv']"
      ]
     },
     "execution_count": 5,
     "metadata": {},
     "output_type": "execute_result"
    }
   ],
   "source": [
    "df.columns"
   ]
  },
  {
   "cell_type": "code",
   "execution_count": 6,
   "id": "b39133fd",
   "metadata": {},
   "outputs": [
    {
     "name": "stderr",
     "output_type": "stream",
     "text": [
      "[Stage 3:>                                                          (0 + 2) / 2]\r"
     ]
    },
    {
     "name": "stdout",
     "output_type": "stream",
     "text": [
      "+--------+\n",
      "|count(1)|\n",
      "+--------+\n",
      "|  899164|\n",
      "+--------+\n",
      "\n"
     ]
    },
    {
     "name": "stderr",
     "output_type": "stream",
     "text": [
      "                                                                                \r"
     ]
    }
   ],
   "source": [
    "spark.sql(\"SELECT COUNT(*)FROM SBAData;\").show()"
   ]
  },
  {
   "cell_type": "code",
   "execution_count": 4,
   "id": "abed2f48",
   "metadata": {},
   "outputs": [
    {
     "name": "stderr",
     "output_type": "stream",
     "text": [
      "22/10/10 06:55:45 WARN package: Truncated the string representation of a plan since it was too large. This behavior can be adjusted by setting 'spark.sql.debug.maxToStringFields'.\n"
     ]
    },
    {
     "name": "stdout",
     "output_type": "stream",
     "text": [
      "+-------+-------------------+-------------------+------------------+-----------+------------------+--------------------+------------------+------------------+-----------------+------------------+------------------+------------------+------------------+------------------+-----------------+------------------+------------------+--------------------+--------------------+----------+----------------+-----------------+------------+----------+------------+------------+--------------+\n",
      "|summary|      LoanNr_ChkDgt|               Name|              City|      State|               Zip|                Bank|         BankState|             NAICS|     ApprovalDate|        ApprovalFY|              Term|             NoEmp|          NewExist|         CreateJob|      RetainedJob|     FranchiseCode|        UrbanRural|           RevLineCr|              LowDoc|ChgOffDate|DisbursementDate|DisbursementGross|BalanceGross|MIS_Status|ChgOffPrinGr|      GrAppv|      SBA_Appv|\n",
      "+-------+-------------------+-------------------+------------------+-----------+------------------+--------------------+------------------+------------------+-----------------+------------------+------------------+------------------+------------------+------------------+-----------------+------------------+------------------+--------------------+--------------------+----------+----------------+-----------------+------------+----------+------------+------------+--------------+\n",
      "|  count|             899164|             899161|            899134|     899150|            899164|              897605|            897598|            899164|           899164|            899164|            899164|            899164|            899028|            899164|           899164|            899164|            899164|              894636|              896582|    162762|          896733|           899164|      899164|    897167|      899164|      899164|        899164|\n",
      "|   mean| 4.77261231059431E9|           Infinity|62418.333333333336|       null|53804.759778711064|   48931.58823529412|              null|398670.39542051125|273775.5294117647|2001.1444446421779|110.91478640159082|11.419535257194461|1.2813616483580044|   8.4303831114235|10.79724722075172| 2753.238272439733|1.2455002646903124|2.832828210312271E-4|6.657789613848203E-4|      null|            null|             null|        null|      null|        null|        null|          null|\n",
      "| stddev|2.538175037453106E9|                NaN| 54024.13594249642|       null|31184.262186860287|   29607.95430549496|              null|  263313.295971346|299991.5261619887| 5.912774994858871| 80.54021670317441|  74.1178186689538|0.4986369575508022|236.68816229075185|237.1205891946959|12756.834986196724|181.37910928089514| 0.02590875982595177|  0.0258026929095554|      null|            null|             null|        null|      null|        null|        null|          null|\n",
      "|    min|         1000014003|\"\"\"216\"\" PIANO BAR\"|       \"\"THE UPPE\"|         AK|                 0|               11507|ACCION TEXAS, INC.|                 0|                0|          1-Apr-04|                 0|                 0|                 0|                 0|                0|                 0|                 0|                   ,|                   0|  1-Apr-01|        1-Apr-00|           $0.00 |      $0.00 |    $0.00 |      $0.00 |      $0.00 |$1,000,000.00 |\n",
      "|    max|         9996003010|      z on 2nd, LLC|            weston|YOUNGSVILLE|                WY|ZIONS FIRST NATIO...|                WY|                WY|         9-Sep-99|          8-Aug-89|              2004|              9999|               127|              8800|             9500|             99999|             79950|                   `|                   Y|         Y|        9-Sep-99|         5-Nov-86|$996,262.00 |     P I F|       P I F|$999,995.00 |  $999,999.00 |\n",
      "+-------+-------------------+-------------------+------------------+-----------+------------------+--------------------+------------------+------------------+-----------------+------------------+------------------+------------------+------------------+------------------+-----------------+------------------+------------------+--------------------+--------------------+----------+----------------+-----------------+------------+----------+------------+------------+--------------+\n",
      "\n"
     ]
    }
   ],
   "source": [
    "df.describe().show()"
   ]
  },
  {
   "cell_type": "code",
   "execution_count": 8,
   "id": "e787de37",
   "metadata": {},
   "outputs": [
    {
     "name": "stdout",
     "output_type": "stream",
     "text": [
      "root\n",
      " |-- LoanNr_ChkDgt: long (nullable = true)\n",
      " |-- Name: string (nullable = true)\n",
      " |-- City: string (nullable = true)\n",
      " |-- State: string (nullable = true)\n",
      " |-- Zip: string (nullable = true)\n",
      " |-- Bank: string (nullable = true)\n",
      " |-- BankState: string (nullable = true)\n",
      " |-- NAICS: string (nullable = true)\n",
      " |-- ApprovalDate: string (nullable = true)\n",
      " |-- ApprovalFY: string (nullable = true)\n",
      " |-- Term: integer (nullable = true)\n",
      " |-- NoEmp: integer (nullable = true)\n",
      " |-- NewExist: integer (nullable = true)\n",
      " |-- CreateJob: integer (nullable = true)\n",
      " |-- RetainedJob: integer (nullable = true)\n",
      " |-- FranchiseCode: integer (nullable = true)\n",
      " |-- UrbanRural: integer (nullable = true)\n",
      " |-- RevLineCr: string (nullable = true)\n",
      " |-- LowDoc: string (nullable = true)\n",
      " |-- ChgOffDate: string (nullable = true)\n",
      " |-- DisbursementDate: string (nullable = true)\n",
      " |-- DisbursementGross: string (nullable = true)\n",
      " |-- BalanceGross: string (nullable = true)\n",
      " |-- MIS_Status: string (nullable = true)\n",
      " |-- ChgOffPrinGr: string (nullable = true)\n",
      " |-- GrAppv: string (nullable = true)\n",
      " |-- SBA_Appv: string (nullable = true)\n",
      "\n"
     ]
    }
   ],
   "source": [
    "df.printSchema()"
   ]
  },
  {
   "cell_type": "markdown",
   "id": "545c1d1f",
   "metadata": {},
   "source": [
    "## 4. Data Exploration"
   ]
  },
  {
   "cell_type": "code",
   "execution_count": null,
   "id": "42b3e05e",
   "metadata": {},
   "outputs": [
    {
     "name": "stderr",
     "output_type": "stream",
     "text": [
      "22/10/10 05:49:40 WARN package: Truncated the string representation of a plan since it was too large. This behavior can be adjusted by setting 'spark.sql.debug.maxToStringFields'.\n",
      "                                                                                \r"
     ]
    }
   ],
   "source": [
    "import pandas\n",
    "import matplotlib.pyplot as plt\n",
    "from pandas.plotting import scatter_matrix\n",
    "\n",
    "random_sample1 = df.sample(False, 0.9, 42);\n",
    "df_pandas = random_sample1.toPandas()\n",
    "pandas.plotting.scatter_matrix(df, alpha=0.2)\n",
    "plt.show()"
   ]
  },
  {
   "cell_type": "code",
   "execution_count": 34,
   "id": "e889b08c",
   "metadata": {},
   "outputs": [
    {
     "name": "stdout",
     "output_type": "stream",
     "text": [
      "Defaulting to user installation because normal site-packages is not writeable\n",
      "Requirement already satisfied: spark-plot in /home/ubuntu/.local/lib/python3.10/site-packages (0.0.1)\n",
      "Requirement already satisfied: matplotlib in /home/ubuntu/.local/lib/python3.10/site-packages (from spark-plot) (3.5.2)\n",
      "Requirement already satisfied: pyspark in /home/ubuntu/.local/lib/python3.10/site-packages (from spark-plot) (3.2.1)\n",
      "Requirement already satisfied: pillow>=6.2.0 in /home/ubuntu/.local/lib/python3.10/site-packages (from matplotlib->spark-plot) (9.1.1)\n",
      "Requirement already satisfied: fonttools>=4.22.0 in /home/ubuntu/.local/lib/python3.10/site-packages (from matplotlib->spark-plot) (4.33.3)\n",
      "Requirement already satisfied: pyparsing>=2.2.1 in /usr/lib/python3/dist-packages (from matplotlib->spark-plot) (2.4.7)\n",
      "Requirement already satisfied: python-dateutil>=2.7 in /home/ubuntu/.local/lib/python3.10/site-packages (from matplotlib->spark-plot) (2.8.2)\n",
      "Requirement already satisfied: numpy>=1.17 in /home/ubuntu/.local/lib/python3.10/site-packages (from matplotlib->spark-plot) (1.22.4)\n",
      "Requirement already satisfied: cycler>=0.10 in /home/ubuntu/.local/lib/python3.10/site-packages (from matplotlib->spark-plot) (0.11.0)\n",
      "Requirement already satisfied: packaging>=20.0 in /home/ubuntu/.local/lib/python3.10/site-packages (from matplotlib->spark-plot) (21.3)\n",
      "Requirement already satisfied: kiwisolver>=1.0.1 in /home/ubuntu/.local/lib/python3.10/site-packages (from matplotlib->spark-plot) (1.4.2)\n",
      "Requirement already satisfied: py4j==0.10.9.3 in /home/ubuntu/.local/lib/python3.10/site-packages (from pyspark->spark-plot) (0.10.9.3)\n",
      "Requirement already satisfied: six>=1.5 in /usr/lib/python3/dist-packages (from python-dateutil>=2.7->matplotlib->spark-plot) (1.16.0)\n",
      "Note: you may need to restart the kernel to use updated packages.\n"
     ]
    }
   ],
   "source": [
    "pip install spark-plot"
   ]
  },
  {
   "cell_type": "markdown",
   "id": "3cf19c85",
   "metadata": {},
   "source": [
    "### Data Visualization"
   ]
  },
  {
   "cell_type": "code",
   "execution_count": 11,
   "id": "0246f050",
   "metadata": {},
   "outputs": [
    {
     "name": "stderr",
     "output_type": "stream",
     "text": [
      "                                                                                \r"
     ]
    },
    {
     "data": {
      "text/plain": [
       "array([<AxesSubplot:title={'center':'LoanNr_ChkDgt'}>], dtype=object)"
      ]
     },
     "execution_count": 11,
     "metadata": {},
     "output_type": "execute_result"
    },
    {
     "data": {
      "image/png": "[encoded data removed]",
      "text/plain": [
       "<Figure size 432x288 with 1 Axes>"
      ]
     },
     "metadata": {
      "needs_background": "light"
     },
     "output_type": "display_data"
    }
   ],
   "source": [
    "from spark_plot import mpl\n",
    "\n",
    "mpl.hist(df, \"LoanNr_ChkDgt\")"
   ]
  },
  {
   "cell_type": "code",
   "execution_count": 7,
   "id": "d5970b17",
   "metadata": {},
   "outputs": [
    {
     "name": "stderr",
     "output_type": "stream",
     "text": [
      "                                                                                \r"
     ]
    },
    {
     "data": {
      "image/png": "[encoded data removed]",
      "text/plain": [
       "<Figure size 432x288 with 1 Axes>"
      ]
     },
     "metadata": {
      "needs_background": "light"
     },
     "output_type": "display_data"
    }
   ],
   "source": [
    "import matplotlib.pyplot as plt\n",
    "\n",
    "random_sample1 = df.sample(False, 0.1, 100);\n",
    "df_pandas = random_sample1.toPandas()\n",
    "\n",
    "plt.hist(df_pandas[\"NAICS\"])\n",
    "plt.show()"
   ]
  },
  {
   "cell_type": "code",
   "execution_count": 5,
   "id": "857204e7",
   "metadata": {},
   "outputs": [
    {
     "name": "stderr",
     "output_type": "stream",
     "text": [
      "                                                                                \r"
     ]
    },
    {
     "data": {
      "image/png": "[encoded data removed]",
      "text/plain": [
       "<Figure size 432x288 with 1 Axes>"
      ]
     },
     "metadata": {
      "needs_background": "light"
     },
     "output_type": "display_data"
    }
   ],
   "source": [
    "import matplotlib.pyplot as plt\n",
    "\n",
    "random_sample1 = df.sample(False, 0.1, 42);\n",
    "df_pandas = random_sample1.toPandas()\n",
    "\n",
    "plt.hist(df_pandas[\"Zip\"])\n",
    "plt.show()"
   ]
  },
  {
   "cell_type": "code",
   "execution_count": 7,
   "id": "6c70e934",
   "metadata": {},
   "outputs": [
    {
     "name": "stderr",
     "output_type": "stream",
     "text": [
      "                                                                                \r"
     ]
    },
    {
     "data": {
      "image/png": "[encoded data removed]",
      "text/plain": [
       "<Figure size 432x288 with 1 Axes>"
      ]
     },
     "metadata": {
      "needs_background": "light"
     },
     "output_type": "display_data"
    }
   ],
   "source": [
    "# Extreme values\n",
    "\n",
    "import matplotlib.pyplot as plt\n",
    "\n",
    "random_sample1 = df.sample(False, 0.5, 30);\n",
    "df_pandas = random_sample1.toPandas()\n",
    "\n",
    "plt.boxplot(df_pandas[\"UrbanRural\"])\n",
    "plt.show()"
   ]
  },
  {
   "cell_type": "code",
   "execution_count": 1,
   "id": "a2ba9328",
   "metadata": {},
   "outputs": [
    {
     "ename": "NameError",
     "evalue": "name 'df' is not defined",
     "output_type": "error",
     "traceback": [
      "\u001b[0;31m---------------------------------------------------------------------------\u001b[0m",
      "\u001b[0;31mNameError\u001b[0m                                 Traceback (most recent call last)",
      "Input \u001b[0;32mIn [1]\u001b[0m, in \u001b[0;36m<cell line: 5>\u001b[0;34m()\u001b[0m\n\u001b[1;32m      1\u001b[0m \u001b[38;5;66;03m# Extreme values\u001b[39;00m\n\u001b[1;32m      3\u001b[0m \u001b[38;5;28;01mimport\u001b[39;00m \u001b[38;5;21;01mmatplotlib\u001b[39;00m\u001b[38;5;21;01m.\u001b[39;00m\u001b[38;5;21;01mpyplot\u001b[39;00m \u001b[38;5;28;01mas\u001b[39;00m \u001b[38;5;21;01mplt\u001b[39;00m\n\u001b[0;32m----> 5\u001b[0m random_sample1 \u001b[38;5;241m=\u001b[39m \u001b[43mdf\u001b[49m\u001b[38;5;241m.\u001b[39msample(\u001b[38;5;28;01mFalse\u001b[39;00m, \u001b[38;5;241m0.5\u001b[39m, \u001b[38;5;241m30\u001b[39m);\n\u001b[1;32m      6\u001b[0m df_pandas \u001b[38;5;241m=\u001b[39m random_sample1\u001b[38;5;241m.\u001b[39mtoPandas()\n\u001b[1;32m      8\u001b[0m plt\u001b[38;5;241m.\u001b[39mboxplot(df_pandas[\u001b[38;5;124m\"\u001b[39m\u001b[38;5;124mNAICS\u001b[39m\u001b[38;5;124m\"\u001b[39m])\n",
      "\u001b[0;31mNameError\u001b[0m: name 'df' is not defined"
     ]
    }
   ],
   "source": [
    "# Extreme values\n",
    "\n",
    "import matplotlib.pyplot as plt\n",
    "\n",
    "random_sample1 = df.sample(False, 0.5, 30);\n",
    "df_pandas = random_sample1.toPandas()\n",
    "\n",
    "plt.boxplot(df_pandas[\"NAICS\"])\n",
    "plt.show()"
   ]
  },
  {
   "cell_type": "code",
   "execution_count": 25,
   "id": "78cbc1e3",
   "metadata": {},
   "outputs": [
    {
     "data": {
      "text/plain": [
       "[('LoanNr_ChkDgt', 'bigint'),\n",
       " ('Name', 'string'),\n",
       " ('City', 'string'),\n",
       " ('State', 'string'),\n",
       " ('Zip', 'string'),\n",
       " ('Bank', 'string'),\n",
       " ('BankState', 'string'),\n",
       " ('NAICS', 'string'),\n",
       " ('ApprovalDate', 'string'),\n",
       " ('ApprovalFY', 'string'),\n",
       " ('Term', 'int'),\n",
       " ('NoEmp', 'int'),\n",
       " ('NewExist', 'int'),\n",
       " ('CreateJob', 'int'),\n",
       " ('RetainedJob', 'int'),\n",
       " ('FranchiseCode', 'int'),\n",
       " ('UrbanRural', 'int'),\n",
       " ('RevLineCr', 'string'),\n",
       " ('LowDoc', 'string'),\n",
       " ('ChgOffDate', 'string'),\n",
       " ('DisbursementDate', 'string'),\n",
       " ('DisbursementGross', 'string'),\n",
       " ('BalanceGross', 'string'),\n",
       " ('MIS_Status', 'string'),\n",
       " ('ChgOffPrinGr', 'string'),\n",
       " ('GrAppv', 'string'),\n",
       " ('SBA_Appv', 'string')]"
      ]
     },
     "execution_count": 25,
     "metadata": {},
     "output_type": "execute_result"
    }
   ],
   "source": [
    "df.dtypes"
   ]
  },
  {
   "cell_type": "code",
   "execution_count": 9,
   "id": "8a5f8651",
   "metadata": {},
   "outputs": [
    {
     "name": "stderr",
     "output_type": "stream",
     "text": [
      "[Stage 5:=============================>                             (1 + 1) / 2]\r"
     ]
    },
    {
     "name": "stdout",
     "output_type": "stream",
     "text": [
      "+-------------+----+----+-----+---+----+---------+-----+------------+----------+----+-----+--------+---------+-----------+-------------+----------+---------+------+----------+----------------+-----------------+------------+----------+------------+------+--------+\n",
      "|LoanNr_ChkDgt|Name|City|State|Zip|Bank|BankState|NAICS|ApprovalDate|ApprovalFY|Term|NoEmp|NewExist|CreateJob|RetainedJob|FranchiseCode|UrbanRural|RevLineCr|LowDoc|ChgOffDate|DisbursementDate|DisbursementGross|BalanceGross|MIS_Status|ChgOffPrinGr|GrAppv|SBA_Appv|\n",
      "+-------------+----+----+-----+---+----+---------+-----+------------+----------+----+-----+--------+---------+-----------+-------------+----------+---------+------+----------+----------------+-----------------+------------+----------+------------+------+--------+\n",
      "|            0|   3|  30|   14|  0|1559|     1566|    0|           0|         0|   0|    0|     136|        0|          0|            0|         0|     4528|  2582|    736402|            2431|                0|           0|      1997|           0|     0|       0|\n",
      "+-------------+----+----+-----+---+----+---------+-----+------------+----------+----+-----+--------+---------+-----------+-------------+----------+---------+------+----------+----------------+-----------------+------------+----------+------------+------+--------+\n",
      "\n"
     ]
    },
    {
     "name": "stderr",
     "output_type": "stream",
     "text": [
      "                                                                                \r"
     ]
    }
   ],
   "source": [
    "from pyspark.sql.functions import col, when, count\n",
    "\n",
    "df.select(*(count(when(col(c).isNull(), c)).alias(c) for c in df.columns)).show()"
   ]
  },
  {
   "cell_type": "code",
   "execution_count": 11,
   "id": "8e00a196",
   "metadata": {},
   "outputs": [
    {
     "name": "stdout",
     "output_type": "stream",
     "text": [
      "Distinct count:\n"
     ]
    },
    {
     "name": "stderr",
     "output_type": "stream",
     "text": [
      "[Stage 22:======================================>                   (2 + 1) / 3]\r"
     ]
    },
    {
     "name": "stdout",
     "output_type": "stream",
     "text": [
      "899164\n"
     ]
    },
    {
     "name": "stderr",
     "output_type": "stream",
     "text": [
      "                                                                                \r"
     ]
    }
   ],
   "source": [
    "df2 = df.dropDuplicates()\n",
    "print(\"Distinct count:\")\n",
    "print(df2.count())"
   ]
  },
  {
   "cell_type": "markdown",
   "id": "b25f8713",
   "metadata": {},
   "source": [
    "## 5. Data Preparation "
   ]
  },
  {
   "cell_type": "code",
   "execution_count": 5,
   "id": "00ca0e32",
   "metadata": {},
   "outputs": [
    {
     "name": "stdout",
     "output_type": "stream",
     "text": [
      "27\n",
      "25\n"
     ]
    }
   ],
   "source": [
    "print(len(df.columns))\n",
    "\n",
    "df = df.drop(\"Name\")\n",
    "df = df.drop(\"LoanNr_ChkDgt\")\n",
    "\n",
    "print(len(df.columns))"
   ]
  },
  {
   "cell_type": "code",
   "execution_count": 5,
   "id": "94cfbf80",
   "metadata": {},
   "outputs": [
    {
     "name": "stdout",
     "output_type": "stream",
     "text": [
      "+--------------+-----+-----+--------------------+---------+------+------------+----------+----+-----+--------+---------+-----------+-------------+----------+---------+------+----------+----------------+-----------------+------------+----------+------------+------------+------------+\n",
      "|          City|State|  Zip|                Bank|BankState| NAICS|ApprovalDate|ApprovalFY|Term|NoEmp|NewExist|CreateJob|RetainedJob|FranchiseCode|UrbanRural|RevLineCr|LowDoc|ChgOffDate|DisbursementDate|DisbursementGross|BalanceGross|MIS_Status|ChgOffPrinGr|      GrAppv|    SBA_Appv|\n",
      "+--------------+-----+-----+--------------------+---------+------+------------+----------+----+-----+--------+---------+-----------+-------------+----------+---------+------+----------+----------------+-----------------+------------+----------+------------+------------+------------+\n",
      "|    EVANSVILLE|   IN|47711|    FIFTH THIRD BANK|       OH|451120|   28-Feb-97|      1997|  84|    4|       2|        0|          0|            1|         0|        N|     Y|   Unknown|       28-Feb-99|      $60,000.00 |      $0.00 |     P I F|      $0.00 | $60,000.00 | $48,000.00 |\n",
      "|     NEW PARIS|   IN|46526|     1ST SOURCE BANK|       IN|722410|   28-Feb-97|      1997|  60|    2|       2|        0|          0|            1|         0|        N|     Y|   Unknown|       31-May-97|      $40,000.00 |      $0.00 |     P I F|      $0.00 | $40,000.00 | $32,000.00 |\n",
      "|   BLOOMINGTON|   IN|47401|GRANT COUNTY STAT...|       IN|621210|   28-Feb-97|      1997| 180|    7|       1|        0|          0|            1|         0|        N|     N|   Unknown|       31-Dec-97|     $287,000.00 |      $0.00 |     P I F|      $0.00 |$287,000.00 |$215,250.00 |\n",
      "|  BROKEN ARROW|   OK|74012|1ST NATL BK & TR ...|       OK|     0|   28-Feb-97|      1997|  60|    2|       1|        0|          0|            1|         0|        N|     Y|   Unknown|       30-Jun-97|      $35,000.00 |      $0.00 |     P I F|      $0.00 | $35,000.00 | $28,000.00 |\n",
      "|       ORLANDO|   FL|32801|FLORIDA BUS. DEVE...|       FL|     0|   28-Feb-97|      1997| 240|   14|       1|        7|          7|            1|         0|        N|     N|   Unknown|       14-May-97|     $229,000.00 |      $0.00 |     P I F|      $0.00 |$229,000.00 |$229,000.00 |\n",
      "|    PLAINVILLE|   CT| 6062|TD BANK, NATIONAL...|       DE|332721|   28-Feb-97|      1997| 120|   19|       1|        0|          0|            1|         0|        N|     N|   Unknown|       30-Jun-97|     $517,000.00 |      $0.00 |     P I F|      $0.00 |$517,000.00 |$387,750.00 |\n",
      "|         UNION|   NJ| 7083|WELLS FARGO BANK ...|       SD|     0|    2-Jun-80|      1980|  45|   45|       2|        0|          0|            0|         0|        N|     N| 24-Jun-91|       22-Jul-80|     $600,000.00 |      $0.00 |    CHGOFF|$208,959.00 |$600,000.00 |$499,998.00 |\n",
      "|   SUMMERFIELD|   FL|34491|        REGIONS BANK|       AL|811118|   28-Feb-97|      1997|  84|    1|       2|        0|          0|            1|         0|        N|     Y|   Unknown|       30-Jun-98|      $45,000.00 |      $0.00 |     P I F|      $0.00 | $45,000.00 | $36,000.00 |\n",
      "|PORT SAINT JOE|   FL|32456|     CENTENNIAL BANK|       FL|721310|   28-Feb-97|      1997| 297|    2|       2|        0|          0|            1|         0|        N|     N|   Unknown|       31-Jul-97|     $305,000.00 |      $0.00 |     P I F|      $0.00 |$305,000.00 |$228,750.00 |\n",
      "|   GLASTONBURY|   CT| 6073|WEBSTER BANK NATL...|       CT|     0|   28-Feb-97|      1997|  84|    3|       2|        0|          0|            1|         0|        N|     Y|   Unknown|       30-Apr-97|      $70,000.00 |      $0.00 |     P I F|      $0.00 | $70,000.00 | $56,000.00 |\n",
      "|     CHARLOTTE|   NC|28256|       SUNTRUST BANK|       GA|811111|   28-Feb-97|      1997|  84|    1|       2|        0|          0|            1|         0|        N|     Y|   Unknown|       23-Feb-98|      $70,000.00 |      $0.00 |     P I F|      $0.00 | $70,000.00 | $56,000.00 |\n",
      "|       CHICAGO|   IL|60605|BANK OF AMERICA N...|       OR|235950|   28-Feb-97|      1997|  60|   24|       1|        0|          0|            1|         0|        N|     N|   Unknown|       30-Nov-97|     $150,000.00 |      $0.00 |     P I F|      $0.00 |$300,000.00 |$225,000.00 |\n",
      "|          APEX|   NC|27502|STEARNS BK NATL A...|       MN|445299|    7-Feb-06|      2006| 162|    2|       2|        0|          0|        15100|         1|        N|     N|   Unknown|       31-Mar-06|     $253,400.00 |      $0.00 |     P I F|      $0.00 |$253,400.00 |$190,050.00 |\n",
      "|  SLATERSVILLE|   RI| 2876|CITIZENS BANK NAT...|       RI|     0|   28-Feb-97|      1997| 120|    2|       2|        0|          0|            1|         0|        N|     N|   Unknown|       31-May-97|     $370,000.00 |      $0.00 |     P I F|      $0.00 |$370,000.00 |$277,500.00 |\n",
      "| WINSTON-SALEM|   NC|27106|NORTHWEST PIEDMON...|       NC|     0|   28-Feb-97|      1997| 240|    1|       1|       30|          0|            1|         0|        N|     N|   Unknown|       17-Dec-97|     $225,000.00 |      $0.00 |     P I F|      $0.00 |$225,000.00 |$225,000.00 |\n",
      "| OKLAHOMA CITY|   OK|73112|BANK OF AMERICA N...|       NC|421330|   28-Feb-97|      1997|  12|    5|       2|        0|          0|            1|         0|        N|     N|   Unknown|       30-Sep-97|     $350,000.00 |      $0.00 |     P I F|      $0.00 |$350,000.00 |$262,500.00 |\n",
      "|       MIDLAND|   TX|79701|WELLS FARGO BANK ...|       TX|     0|   28-Feb-97|      1997|  60|    5|       1|        0|          0|            1|         0|        N|     Y|   Unknown|       30-Jun-97|      $70,000.00 |      $0.00 |     P I F|      $0.00 | $70,000.00 | $56,000.00 |\n",
      "|   CENTREVILLE|   VA|20120|BANK OF AMERICA N...|       MD|     0|   28-Feb-97|      1997|  60|   16|       1|        0|          0|            1|         0|        N|     Y|   Unknown|       31-Jul-97|     $100,000.00 |      $0.00 |     P I F|      $0.00 |$100,000.00 | $80,000.00 |\n",
      "|         PLANO|   TX|75093|NEWTEK SMALL BUS....|       NY|     0|   28-Feb-97|      1997|  84|   12|       2|        0|          0|        19755|         0|        N|     Y|   Unknown|       31-May-97|      $57,500.00 |      $0.00 |     P I F|      $0.00 | $57,500.00 | $46,000.00 |\n",
      "|     KNOXVILLE|   TN|37922|CITIZENS NATIONAL...|       TN|     0|   28-Feb-97|      1997| 120|    4|       2|        0|          0|            1|         0|        N|     Y|   Unknown|       31-May-98|      $50,000.00 |      $0.00 |     P I F|      $0.00 | $50,000.00 | $40,000.00 |\n",
      "+--------------+-----+-----+--------------------+---------+------+------------+----------+----+-----+--------+---------+-----------+-------------+----------+---------+------+----------+----------------+-----------------+------------+----------+------------+------------+------------+\n",
      "only showing top 20 rows\n",
      "\n"
     ]
    }
   ],
   "source": [
    "df.na.fill(value=\"Unknown\",subset=[\"ChgOffDate\"]).show()"
   ]
  },
  {
   "cell_type": "code",
   "execution_count": 4,
   "id": "b30626e8",
   "metadata": {},
   "outputs": [
    {
     "name": "stdout",
     "output_type": "stream",
     "text": [
      "+-------------+--------------------+--------------+-----+-----+--------------------+---------+------+------------+----------+----+-----+--------+---------+-----------+-------------+----------+---------+------+----------+----------------+-----------------+------------+----------+------------+------------+------------+\n",
      "|LoanNr_ChkDgt|                Name|          City|State|  Zip|                Bank|BankState| NAICS|ApprovalDate|ApprovalFY|Term|NoEmp|NewExist|CreateJob|RetainedJob|FranchiseCode|UrbanRural|RevLineCr|LowDoc|ChgOffDate|DisbursementDate|DisbursementGross|BalanceGross|MIS_Status|ChgOffPrinGr|      GrAppv|    SBA_Appv|\n",
      "+-------------+--------------------+--------------+-----+-----+--------------------+---------+------+------------+----------+----+-----+--------+---------+-----------+-------------+----------+---------+------+----------+----------------+-----------------+------------+----------+------------+------------+------------+\n",
      "|   1000014003|      ABC HOBBYCRAFT|    EVANSVILLE|   IN|47711|    FIFTH THIRD BANK|       OH|451120|   28-Feb-97|      1997|  84|    4|       2|        0|          0|            1|         0|        N|     Y|      null|       28-Feb-99|      $60,000.00 |      $0.00 |     P I F|      $0.00 | $60,000.00 | $48,000.00 |\n",
      "|   1000024006|LANDMARK BAR & GR...|     NEW PARIS|   IN|46526|     1ST SOURCE BANK|       IN|722410|   28-Feb-97|      1997|  60|    2|       2|        0|          0|            1|         0|        N|     Y|      null|       31-May-97|      $40,000.00 |      $0.00 |     P I F|      $0.00 | $40,000.00 | $32,000.00 |\n",
      "|   1000034009|WHITLOCK DDS, TOD...|   BLOOMINGTON|   IN|47401|GRANT COUNTY STAT...|       IN|621210|   28-Feb-97|      1997| 180|    7|       1|        0|          0|            1|         0|        N|     N|      null|       31-Dec-97|     $287,000.00 |      $0.00 |     P I F|      $0.00 |$287,000.00 |$215,250.00 |\n",
      "|   1000044001|BIG BUCKS PAWN & ...|  BROKEN ARROW|   OK|74012|1ST NATL BK & TR ...|       OK|     0|   28-Feb-97|      1997|  60|    2|       1|        0|          0|            1|         0|        N|     Y|      null|       30-Jun-97|      $35,000.00 |      $0.00 |     P I F|      $0.00 | $35,000.00 | $28,000.00 |\n",
      "|   1000054004|ANASTASIA CONFECT...|       ORLANDO|   FL|32801|FLORIDA BUS. DEVE...|       FL|     0|   28-Feb-97|      1997| 240|   14|       1|        7|          7|            1|         0|        N|     N|      null|       14-May-97|     $229,000.00 |      $0.00 |     P I F|      $0.00 |$229,000.00 |$229,000.00 |\n",
      "|   1000084002|B&T SCREW MACHINE...|    PLAINVILLE|   CT| 6062|TD BANK, NATIONAL...|       DE|332721|   28-Feb-97|      1997| 120|   19|       1|        0|          0|            1|         0|        N|     N|      null|       30-Jun-97|     $517,000.00 |      $0.00 |     P I F|      $0.00 |$517,000.00 |$387,750.00 |\n",
      "|   1000093009|MIDDLE ATLANTIC S...|         UNION|   NJ| 7083|WELLS FARGO BANK ...|       SD|     0|    2-Jun-80|      1980|  45|   45|       2|        0|          0|            0|         0|        N|     N| 24-Jun-91|       22-Jul-80|     $600,000.00 |      $0.00 |    CHGOFF|$208,959.00 |$600,000.00 |$499,998.00 |\n",
      "|   1000094005|     WEAVER PRODUCTS|   SUMMERFIELD|   FL|34491|        REGIONS BANK|       AL|811118|   28-Feb-97|      1997|  84|    1|       2|        0|          0|            1|         0|        N|     Y|      null|       30-Jun-98|      $45,000.00 |      $0.00 |     P I F|      $0.00 | $45,000.00 | $36,000.00 |\n",
      "|   1000104006|    TURTLE BEACH INN|PORT SAINT JOE|   FL|32456|     CENTENNIAL BANK|       FL|721310|   28-Feb-97|      1997| 297|    2|       2|        0|          0|            1|         0|        N|     N|      null|       31-Jul-97|     $305,000.00 |      $0.00 |     P I F|      $0.00 |$305,000.00 |$228,750.00 |\n",
      "|   1000124001|INTEXT BUILDING S...|   GLASTONBURY|   CT| 6073|WEBSTER BANK NATL...|       CT|     0|   28-Feb-97|      1997|  84|    3|       2|        0|          0|            1|         0|        N|     Y|      null|       30-Apr-97|      $70,000.00 |      $0.00 |     P I F|      $0.00 | $70,000.00 | $56,000.00 |\n",
      "|   1000134004|COMMERCIAL TRUCKI...|     CHARLOTTE|   NC|28256|       SUNTRUST BANK|       GA|811111|   28-Feb-97|      1997|  84|    1|       2|        0|          0|            1|         0|        N|     Y|      null|       23-Feb-98|      $70,000.00 |      $0.00 |     P I F|      $0.00 | $70,000.00 | $56,000.00 |\n",
      "|   1000144007|PROFESSIONAL ELEV...|       CHICAGO|   IL|60605|BANK OF AMERICA N...|       OR|235950|   28-Feb-97|      1997|  60|   24|       1|        0|          0|            1|         0|        N|     N|      null|       30-Nov-97|     $150,000.00 |      $0.00 |     P I F|      $0.00 |$300,000.00 |$225,000.00 |\n",
      "|   1000146010|              CARVEL|          APEX|   NC|27502|STEARNS BK NATL A...|       MN|445299|    7-Feb-06|      2006| 162|    2|       2|        0|          0|        15100|         1|        N|     N|      null|       31-Mar-06|     $253,400.00 |      $0.00 |     P I F|      $0.00 |$253,400.00 |$190,050.00 |\n",
      "|   1000154010|ORCHARD CAFE & BA...|  SLATERSVILLE|   RI| 2876|CITIZENS BANK NAT...|       RI|     0|   28-Feb-97|      1997| 120|    2|       2|        0|          0|            1|         0|        N|     N|      null|       31-May-97|     $370,000.00 |      $0.00 |     P I F|      $0.00 |$370,000.00 |$277,500.00 |\n",
      "|   1000214004| EBC INVESTMENTS LLC| WINSTON-SALEM|   NC|27106|NORTHWEST PIEDMON...|       NC|     0|   28-Feb-97|      1997| 240|    1|       1|       30|          0|            1|         0|        N|     N|      null|       17-Dec-97|     $225,000.00 |      $0.00 |     P I F|      $0.00 |$225,000.00 |$225,000.00 |\n",
      "|   1000244002|ENVIRONMENTAL ROO...| OKLAHOMA CITY|   OK|73112|BANK OF AMERICA N...|       NC|421330|   28-Feb-97|      1997|  12|    5|       2|        0|          0|            1|         0|        N|     N|      null|       30-Sep-97|     $350,000.00 |      $0.00 |     P I F|      $0.00 |$350,000.00 |$262,500.00 |\n",
      "|   1000254005|ARK MAMAGEMENT EN...|       MIDLAND|   TX|79701|WELLS FARGO BANK ...|       TX|     0|   28-Feb-97|      1997|  60|    5|       1|        0|          0|            1|         0|        N|     Y|      null|       30-Jun-97|      $70,000.00 |      $0.00 |     P I F|      $0.00 | $70,000.00 | $56,000.00 |\n",
      "|   1000264008|FAIRFAX COURT SUB...|   CENTREVILLE|   VA|20120|BANK OF AMERICA N...|       MD|     0|   28-Feb-97|      1997|  60|   16|       1|        0|          0|            1|         0|        N|     Y|      null|       31-Jul-97|     $100,000.00 |      $0.00 |     P I F|      $0.00 |$100,000.00 | $80,000.00 |\n",
      "|   1000284003|      FANTASTIC SAMS|         PLANO|   TX|75093|NEWTEK SMALL BUS....|       NY|     0|   28-Feb-97|      1997|  84|   12|       2|        0|          0|        19755|         0|        N|     Y|      null|       31-May-97|      $57,500.00 |      $0.00 |     P I F|      $0.00 | $57,500.00 | $46,000.00 |\n",
      "|   1000294006|    SIR GOONY'S GOLF|     KNOXVILLE|   TN|37922|CITIZENS NATIONAL...|       TN|     0|   28-Feb-97|      1997| 120|    4|       2|        0|          0|            1|         0|        N|     Y|      null|       31-May-98|      $50,000.00 |      $0.00 |     P I F|      $0.00 | $50,000.00 | $40,000.00 |\n",
      "+-------------+--------------------+--------------+-----+-----+--------------------+---------+------+------------+----------+----+-----+--------+---------+-----------+-------------+----------+---------+------+----------+----------------+-----------------+------------+----------+------------+------------+------------+\n",
      "only showing top 20 rows\n",
      "\n"
     ]
    }
   ],
   "source": [
    "df.na.drop(subset=\"MIS_Status\").show()"
   ]
  },
  {
   "cell_type": "code",
   "execution_count": 3,
   "id": "fa077e00",
   "metadata": {},
   "outputs": [
    {
     "name": "stderr",
     "output_type": "stream",
     "text": [
      "22/10/11 11:04:46 WARN package: Truncated the string representation of a plan since it was too large. This behavior can be adjusted by setting 'spark.sql.debug.maxToStringFields'.\n"
     ]
    },
    {
     "name": "stdout",
     "output_type": "stream",
     "text": [
      "+-------------+--------------------+--------------+-----+-----+--------------------+---------+------+------------+----------+----+-----+--------+---------+-----------+-------------+----------+---------+------+----------+----------------+-----------------+------------+----------+------------+------------+------------+\n",
      "|LoanNr_ChkDgt|                Name|          City|State|  Zip|                Bank|BankState| NAICS|ApprovalDate|ApprovalFY|Term|NoEmp|NewExist|CreateJob|RetainedJob|FranchiseCode|UrbanRural|RevLineCr|LowDoc|ChgOffDate|DisbursementDate|DisbursementGross|BalanceGross|MIS_Status|ChgOffPrinGr|      GrAppv|    SBA_Appv|\n",
      "+-------------+--------------------+--------------+-----+-----+--------------------+---------+------+------------+----------+----+-----+--------+---------+-----------+-------------+----------+---------+------+----------+----------------+-----------------+------------+----------+------------+------------+------------+\n",
      "|   1000014003|      ABC HOBBYCRAFT|    EVANSVILLE|   IN|47711|    FIFTH THIRD BANK|       OH|451120|   28-Feb-97|      1997|  84|    4|       2|        0|          0|            1|         0|        N|     Y|      null|       28-Feb-99|      $60,000.00 |      $0.00 |     P I F|      $0.00 | $60,000.00 | $48,000.00 |\n",
      "|   1000024006|LANDMARK BAR & GR...|     NEW PARIS|   IN|46526|     1ST SOURCE BANK|       IN|722410|   28-Feb-97|      1997|  60|    2|       2|        0|          0|            1|         0|        N|     Y|      null|       31-May-97|      $40,000.00 |      $0.00 |     P I F|      $0.00 | $40,000.00 | $32,000.00 |\n",
      "|   1000034009|WHITLOCK DDS, TOD...|   BLOOMINGTON|   IN|47401|GRANT COUNTY STAT...|       IN|621210|   28-Feb-97|      1997| 180|    7|       1|        0|          0|            1|         0|        N|     N|      null|       31-Dec-97|     $287,000.00 |      $0.00 |     P I F|      $0.00 |$287,000.00 |$215,250.00 |\n",
      "|   1000044001|BIG BUCKS PAWN & ...|  BROKEN ARROW|   OK|74012|1ST NATL BK & TR ...|       OK|     0|   28-Feb-97|      1997|  60|    2|       1|        0|          0|            1|         0|        N|     Y|      null|       30-Jun-97|      $35,000.00 |      $0.00 |     P I F|      $0.00 | $35,000.00 | $28,000.00 |\n",
      "|   1000054004|ANASTASIA CONFECT...|       ORLANDO|   FL|32801|FLORIDA BUS. DEVE...|       FL|     0|   28-Feb-97|      1997| 240|   14|       1|        7|          7|            1|         0|        N|     N|      null|       14-May-97|     $229,000.00 |      $0.00 |     P I F|      $0.00 |$229,000.00 |$229,000.00 |\n",
      "|   1000084002|B&T SCREW MACHINE...|    PLAINVILLE|   CT| 6062|TD BANK, NATIONAL...|       DE|332721|   28-Feb-97|      1997| 120|   19|       1|        0|          0|            1|         0|        N|     N|      null|       30-Jun-97|     $517,000.00 |      $0.00 |     P I F|      $0.00 |$517,000.00 |$387,750.00 |\n",
      "|   1000093009|MIDDLE ATLANTIC S...|         UNION|   NJ| 7083|WELLS FARGO BANK ...|       SD|     0|    2-Jun-80|      1980|  45|   45|       2|        0|          0|            0|         0|        N|     N| 24-Jun-91|       22-Jul-80|     $600,000.00 |      $0.00 |    CHGOFF|$208,959.00 |$600,000.00 |$499,998.00 |\n",
      "|   1000094005|     WEAVER PRODUCTS|   SUMMERFIELD|   FL|34491|        REGIONS BANK|       AL|811118|   28-Feb-97|      1997|  84|    1|       2|        0|          0|            1|         0|        N|     Y|      null|       30-Jun-98|      $45,000.00 |      $0.00 |     P I F|      $0.00 | $45,000.00 | $36,000.00 |\n",
      "|   1000104006|    TURTLE BEACH INN|PORT SAINT JOE|   FL|32456|     CENTENNIAL BANK|       FL|721310|   28-Feb-97|      1997| 297|    2|       2|        0|          0|            1|         0|        N|     N|      null|       31-Jul-97|     $305,000.00 |      $0.00 |     P I F|      $0.00 |$305,000.00 |$228,750.00 |\n",
      "|   1000124001|INTEXT BUILDING S...|   GLASTONBURY|   CT| 6073|WEBSTER BANK NATL...|       CT|     0|   28-Feb-97|      1997|  84|    3|       2|        0|          0|            1|         0|        N|     Y|      null|       30-Apr-97|      $70,000.00 |      $0.00 |     P I F|      $0.00 | $70,000.00 | $56,000.00 |\n",
      "|   1000134004|COMMERCIAL TRUCKI...|     CHARLOTTE|   NC|28256|       SUNTRUST BANK|       GA|811111|   28-Feb-97|      1997|  84|    1|       2|        0|          0|            1|         0|        N|     Y|      null|       23-Feb-98|      $70,000.00 |      $0.00 |     P I F|      $0.00 | $70,000.00 | $56,000.00 |\n",
      "|   1000144007|PROFESSIONAL ELEV...|       CHICAGO|   IL|60605|BANK OF AMERICA N...|       OR|235950|   28-Feb-97|      1997|  60|   24|       1|        0|          0|            1|         0|        N|     N|      null|       30-Nov-97|     $150,000.00 |      $0.00 |     P I F|      $0.00 |$300,000.00 |$225,000.00 |\n",
      "|   1000146010|              CARVEL|          APEX|   NC|27502|STEARNS BK NATL A...|       MN|445299|    7-Feb-06|      2006| 162|    2|       2|        0|          0|        15100|         1|        N|     N|      null|       31-Mar-06|     $253,400.00 |      $0.00 |     P I F|      $0.00 |$253,400.00 |$190,050.00 |\n",
      "|   1000154010|ORCHARD CAFE & BA...|  SLATERSVILLE|   RI| 2876|CITIZENS BANK NAT...|       RI|     0|   28-Feb-97|      1997| 120|    2|       2|        0|          0|            1|         0|        N|     N|      null|       31-May-97|     $370,000.00 |      $0.00 |     P I F|      $0.00 |$370,000.00 |$277,500.00 |\n",
      "|   1000214004| EBC INVESTMENTS LLC| WINSTON-SALEM|   NC|27106|NORTHWEST PIEDMON...|       NC|     0|   28-Feb-97|      1997| 240|    1|       1|       30|          0|            1|         0|        N|     N|      null|       17-Dec-97|     $225,000.00 |      $0.00 |     P I F|      $0.00 |$225,000.00 |$225,000.00 |\n",
      "|   1000244002|ENVIRONMENTAL ROO...| OKLAHOMA CITY|   OK|73112|BANK OF AMERICA N...|       NC|421330|   28-Feb-97|      1997|  12|    5|       2|        0|          0|            1|         0|        N|     N|      null|       30-Sep-97|     $350,000.00 |      $0.00 |     P I F|      $0.00 |$350,000.00 |$262,500.00 |\n",
      "|   1000254005|ARK MAMAGEMENT EN...|       MIDLAND|   TX|79701|WELLS FARGO BANK ...|       TX|     0|   28-Feb-97|      1997|  60|    5|       1|        0|          0|            1|         0|        N|     Y|      null|       30-Jun-97|      $70,000.00 |      $0.00 |     P I F|      $0.00 | $70,000.00 | $56,000.00 |\n",
      "|   1000264008|FAIRFAX COURT SUB...|   CENTREVILLE|   VA|20120|BANK OF AMERICA N...|       MD|     0|   28-Feb-97|      1997|  60|   16|       1|        0|          0|            1|         0|        N|     Y|      null|       31-Jul-97|     $100,000.00 |      $0.00 |     P I F|      $0.00 |$100,000.00 | $80,000.00 |\n",
      "|   1000284003|      FANTASTIC SAMS|         PLANO|   TX|75093|NEWTEK SMALL BUS....|       NY|     0|   28-Feb-97|      1997|  84|   12|       2|        0|          0|        19755|         0|        N|     Y|      null|       31-May-97|      $57,500.00 |      $0.00 |     P I F|      $0.00 | $57,500.00 | $46,000.00 |\n",
      "|   1000294006|    SIR GOONY'S GOLF|     KNOXVILLE|   TN|37922|CITIZENS NATIONAL...|       TN|     0|   28-Feb-97|      1997| 120|    4|       2|        0|          0|            1|         0|        N|     Y|      null|       31-May-98|      $50,000.00 |      $0.00 |     P I F|      $0.00 | $50,000.00 | $40,000.00 |\n",
      "+-------------+--------------------+--------------+-----+-----+--------------------+---------+------+------------+----------+----+-----+--------+---------+-----------+-------------+----------+---------+------+----------+----------------+-----------------+------------+----------+------------+------------+------------+\n",
      "only showing top 20 rows\n",
      "\n"
     ]
    }
   ],
   "source": [
    "df.na.drop(subset=[\"City\", \"State\", \"BankState\", \"NewExist\", \"RevLineCr\", \"LowDoc\", \"DisbursementDate\"]).show()"
   ]
  },
  {
   "cell_type": "code",
   "execution_count": 10,
   "id": "a94e59e2",
   "metadata": {},
   "outputs": [],
   "source": [
    "middle_index = df.count()//2;\n",
    "print(middle_index)\n",
    "df.createOrReplaceTempView('SBAData')\n",
    "end = middle_index * 2\n",
    "\n",
    "first_dataset = spark.sql(\"select * from SBAData limit \" + str(middle_index))\n",
    "second_dataset = spark.sql(\"select * from SBAData between \" + str(middle_index) + \" and \" + str(end))\n",
    "\n",
    "# second_dataset = df[middle_index:]\n",
    "first_dataset.count()\n",
    "second_dataset.count()"
   ]
  },
  {
   "cell_type": "markdown",
   "id": "41a0435e",
   "metadata": {},
   "source": [
    "## 6. Data Transformation"
   ]
  },
  {
   "cell_type": "code",
   "execution_count": 8,
   "id": "bae33592",
   "metadata": {},
   "outputs": [
    {
     "name": "stdout",
     "output_type": "stream",
     "text": [
      "root\n",
      " |-- LoanNr_ChkDgt: long (nullable = true)\n",
      " |-- Name: string (nullable = true)\n",
      " |-- City: string (nullable = true)\n",
      " |-- State: string (nullable = true)\n",
      " |-- Zip: string (nullable = true)\n",
      " |-- Bank: string (nullable = true)\n",
      " |-- BankState: string (nullable = true)\n",
      " |-- NAICS: string (nullable = true)\n",
      " |-- ApprovalDate: string (nullable = true)\n",
      " |-- ApprovalFY: string (nullable = true)\n",
      " |-- Term: integer (nullable = true)\n",
      " |-- NoEmp: integer (nullable = true)\n",
      " |-- NewExist: integer (nullable = true)\n",
      " |-- CreateJob: integer (nullable = true)\n",
      " |-- RetainedJob: integer (nullable = true)\n",
      " |-- FranchiseCode: integer (nullable = true)\n",
      " |-- UrbanRural: integer (nullable = true)\n",
      " |-- RevLineCr: string (nullable = true)\n",
      " |-- LowDoc: string (nullable = true)\n",
      " |-- ChgOffDate: string (nullable = true)\n",
      " |-- DisbursementDate: string (nullable = true)\n",
      " |-- DisbursementGross: string (nullable = true)\n",
      " |-- BalanceGross: string (nullable = true)\n",
      " |-- MIS_Status: string (nullable = true)\n",
      " |-- ChgOffPrinGr: string (nullable = true)\n",
      " |-- GrAppv: string (nullable = true)\n",
      " |-- SBA_Appv: string (nullable = true)\n",
      "\n"
     ]
    }
   ],
   "source": [
    "df.printSchema()"
   ]
  },
  {
   "cell_type": "code",
   "execution_count": 8,
   "id": "e7a37103",
   "metadata": {},
   "outputs": [],
   "source": [
    "from pyspark.ml.feature import VectorAssembler\n",
    "from pyspark.ml.feature import StringIndexer,OneHotEncoder\n",
    "\n",
    "indexer = StringIndexer(inputCols=[\n",
    " 'City',\n",
    " 'State',\n",
    " 'Zip',\n",
    " 'Bank',\n",
    " 'BankState',\n",
    " 'NAICS',\n",
    " 'ApprovalDate',\n",
    " 'ApprovalFY',\n",
    " 'RevLineCr',\n",
    " 'LowDoc',\n",
    " 'MIS_Status',\n",
    " 'ChgOffPrinGr',\n",
    " 'GrAppv',\n",
    " 'SBA_Appv'], \n",
    "outputCols=[\n",
    " 'City_Index',\n",
    " 'State_Index',\n",
    " 'Zip_Index',\n",
    " 'Bank_Index',\n",
    " 'BankState_Index',\n",
    " 'NAICS_Index',\n",
    " 'ApprovalDate_Index',\n",
    " 'ApprovalFY_Index',\n",
    " 'RevLineCr_Index',\n",
    " 'LowDoc_Index',\n",
    " 'MIS_Status_Index',\n",
    " 'ChgOffPrinGr_Index',\n",
    " 'GrAppv_Index',\n",
    " 'SBA_Appv_Index'])\n",
    "\n",
    "encoder = OneHotEncoder(inputCols=['City_Index',\n",
    " 'State_Index',\n",
    " 'Zip_Index',\n",
    " 'Bank_Index',\n",
    " 'BankState_Index',\n",
    " 'NAICS_Index',\n",
    " 'ApprovalDate_Index',\n",
    " 'ApprovalFY_Index',\n",
    " 'RevLineCr_Index',\n",
    " 'LowDoc_Index',\n",
    " 'MIS_Status_Index',\n",
    " 'ChgOffPrinGr_Index',\n",
    " 'GrAppv_Index',\n",
    " 'SBA_Appv_Index'],outputCols=['City_Vec',\n",
    " 'State_Vec',\n",
    " 'Zip_Vec',\n",
    " 'Bank_Vec',\n",
    " 'BankState_Vec',\n",
    " 'NAICS_Vec',\n",
    " 'ApprovalDate_Vec',\n",
    " 'ApprovalFY_Vec',\n",
    " 'RevLineCr_Vec',\n",
    " 'LowDoc_Vec',\n",
    " 'MIS_Status_Vec',\n",
    " 'ChgOffPrinGr_Vec',\n",
    " 'GrAppv_Vec',\n",
    " 'SBA_Appv_Vec'])\n",
    "\n",
    "# from pyspark.ml import Pipeline\n",
    "# pipeline = Pipeline(stages=[indexer,encoder])\n",
    "\n",
    "# output_fixed = indexer.setHandleInvalid(\"keep\").fit(output).transform(output)\n",
    "\n",
    "# output_fixed.show(1)"
   ]
  },
  {
   "cell_type": "code",
   "execution_count": 20,
   "id": "4a512879",
   "metadata": {},
   "outputs": [
    {
     "ename": "IllegalArgumentException",
     "evalue": "Data type string of column City is not supported.\nData type string of column State is not supported.\nData type string of column Zip is not supported.\nData type string of column Bank is not supported.\nData type string of column BankState is not supported.\nData type string of column NAICS is not supported.\nData type string of column ApprovalDate is not supported.\nData type string of column ApprovalFY is not supported.\nData type string of column RevLineCr is not supported.\nData type string of column LowDoc is not supported.\nData type string of column MIS_Status is not supported.\nData type string of column ChgOffPrinGr is not supported.\nData type string of column GrAppv is not supported.\nData type string of column SBA_Appv is not supported.",
     "output_type": "error",
     "traceback": [
      "\u001b[0;31m---------------------------------------------------------------------------\u001b[0m",
      "\u001b[0;31mIllegalArgumentException\u001b[0m                  Traceback (most recent call last)",
      "Input \u001b[0;32mIn [20]\u001b[0m, in \u001b[0;36m<cell line: 25>\u001b[0;34m()\u001b[0m\n\u001b[1;32m      1\u001b[0m assembler \u001b[38;5;241m=\u001b[39m VectorAssembler(\n\u001b[1;32m      2\u001b[0m   inputCols\u001b[38;5;241m=\u001b[39m[\u001b[38;5;124m'\u001b[39m\u001b[38;5;124mCity\u001b[39m\u001b[38;5;124m'\u001b[39m,\n\u001b[1;32m      3\u001b[0m  \u001b[38;5;124m'\u001b[39m\u001b[38;5;124mState\u001b[39m\u001b[38;5;124m'\u001b[39m,\n\u001b[0;32m   (...)\u001b[0m\n\u001b[1;32m     22\u001b[0m  \u001b[38;5;124m'\u001b[39m\u001b[38;5;124mUrbanRural\u001b[39m\u001b[38;5;124m'\u001b[39m],\n\u001b[1;32m     23\u001b[0m   outputCol\u001b[38;5;241m=\u001b[39m\u001b[38;5;124m\"\u001b[39m\u001b[38;5;124mfeatures\u001b[39m\u001b[38;5;124m\"\u001b[39m)\n\u001b[0;32m---> 25\u001b[0m output \u001b[38;5;241m=\u001b[39m \u001b[43massembler\u001b[49m\u001b[38;5;241;43m.\u001b[39;49m\u001b[43mtransform\u001b[49m\u001b[43m(\u001b[49m\u001b[43mdf\u001b[49m\u001b[43m)\u001b[49m\n",
      "File \u001b[0;32m~/spark-3.2.1-bin-hadoop2.7/python/pyspark/ml/base.py:217\u001b[0m, in \u001b[0;36mTransformer.transform\u001b[0;34m(self, dataset, params)\u001b[0m\n\u001b[1;32m    215\u001b[0m         \u001b[38;5;28;01mreturn\u001b[39;00m \u001b[38;5;28mself\u001b[39m\u001b[38;5;241m.\u001b[39mcopy(params)\u001b[38;5;241m.\u001b[39m_transform(dataset)\n\u001b[1;32m    216\u001b[0m     \u001b[38;5;28;01melse\u001b[39;00m:\n\u001b[0;32m--> 217\u001b[0m         \u001b[38;5;28;01mreturn\u001b[39;00m \u001b[38;5;28;43mself\u001b[39;49m\u001b[38;5;241;43m.\u001b[39;49m\u001b[43m_transform\u001b[49m\u001b[43m(\u001b[49m\u001b[43mdataset\u001b[49m\u001b[43m)\u001b[49m\n\u001b[1;32m    218\u001b[0m \u001b[38;5;28;01melse\u001b[39;00m:\n\u001b[1;32m    219\u001b[0m     \u001b[38;5;28;01mraise\u001b[39;00m \u001b[38;5;167;01mTypeError\u001b[39;00m(\u001b[38;5;124m\"\u001b[39m\u001b[38;5;124mParams must be a param map but got \u001b[39m\u001b[38;5;132;01m%s\u001b[39;00m\u001b[38;5;124m.\u001b[39m\u001b[38;5;124m\"\u001b[39m \u001b[38;5;241m%\u001b[39m \u001b[38;5;28mtype\u001b[39m(params))\n",
      "File \u001b[0;32m~/spark-3.2.1-bin-hadoop2.7/python/pyspark/ml/wrapper.py:350\u001b[0m, in \u001b[0;36mJavaTransformer._transform\u001b[0;34m(self, dataset)\u001b[0m\n\u001b[1;32m    348\u001b[0m \u001b[38;5;28;01mdef\u001b[39;00m \u001b[38;5;21m_transform\u001b[39m(\u001b[38;5;28mself\u001b[39m, dataset):\n\u001b[1;32m    349\u001b[0m     \u001b[38;5;28mself\u001b[39m\u001b[38;5;241m.\u001b[39m_transfer_params_to_java()\n\u001b[0;32m--> 350\u001b[0m     \u001b[38;5;28;01mreturn\u001b[39;00m DataFrame(\u001b[38;5;28;43mself\u001b[39;49m\u001b[38;5;241;43m.\u001b[39;49m\u001b[43m_java_obj\u001b[49m\u001b[38;5;241;43m.\u001b[39;49m\u001b[43mtransform\u001b[49m\u001b[43m(\u001b[49m\u001b[43mdataset\u001b[49m\u001b[38;5;241;43m.\u001b[39;49m\u001b[43m_jdf\u001b[49m\u001b[43m)\u001b[49m, dataset\u001b[38;5;241m.\u001b[39msql_ctx)\n",
      "File \u001b[0;32m~/spark-3.2.1-bin-hadoop2.7/python/lib/py4j-0.10.9.3-src.zip/py4j/java_gateway.py:1321\u001b[0m, in \u001b[0;36mJavaMember.__call__\u001b[0;34m(self, *args)\u001b[0m\n\u001b[1;32m   1315\u001b[0m command \u001b[38;5;241m=\u001b[39m proto\u001b[38;5;241m.\u001b[39mCALL_COMMAND_NAME \u001b[38;5;241m+\u001b[39m\\\n\u001b[1;32m   1316\u001b[0m     \u001b[38;5;28mself\u001b[39m\u001b[38;5;241m.\u001b[39mcommand_header \u001b[38;5;241m+\u001b[39m\\\n\u001b[1;32m   1317\u001b[0m     args_command \u001b[38;5;241m+\u001b[39m\\\n\u001b[1;32m   1318\u001b[0m     proto\u001b[38;5;241m.\u001b[39mEND_COMMAND_PART\n\u001b[1;32m   1320\u001b[0m answer \u001b[38;5;241m=\u001b[39m \u001b[38;5;28mself\u001b[39m\u001b[38;5;241m.\u001b[39mgateway_client\u001b[38;5;241m.\u001b[39msend_command(command)\n\u001b[0;32m-> 1321\u001b[0m return_value \u001b[38;5;241m=\u001b[39m \u001b[43mget_return_value\u001b[49m\u001b[43m(\u001b[49m\n\u001b[1;32m   1322\u001b[0m \u001b[43m    \u001b[49m\u001b[43manswer\u001b[49m\u001b[43m,\u001b[49m\u001b[43m \u001b[49m\u001b[38;5;28;43mself\u001b[39;49m\u001b[38;5;241;43m.\u001b[39;49m\u001b[43mgateway_client\u001b[49m\u001b[43m,\u001b[49m\u001b[43m \u001b[49m\u001b[38;5;28;43mself\u001b[39;49m\u001b[38;5;241;43m.\u001b[39;49m\u001b[43mtarget_id\u001b[49m\u001b[43m,\u001b[49m\u001b[43m \u001b[49m\u001b[38;5;28;43mself\u001b[39;49m\u001b[38;5;241;43m.\u001b[39;49m\u001b[43mname\u001b[49m\u001b[43m)\u001b[49m\n\u001b[1;32m   1324\u001b[0m \u001b[38;5;28;01mfor\u001b[39;00m temp_arg \u001b[38;5;129;01min\u001b[39;00m temp_args:\n\u001b[1;32m   1325\u001b[0m     temp_arg\u001b[38;5;241m.\u001b[39m_detach()\n",
      "File \u001b[0;32m~/spark-3.2.1-bin-hadoop2.7/python/pyspark/sql/utils.py:117\u001b[0m, in \u001b[0;36mcapture_sql_exception.<locals>.deco\u001b[0;34m(*a, **kw)\u001b[0m\n\u001b[1;32m    113\u001b[0m converted \u001b[38;5;241m=\u001b[39m convert_exception(e\u001b[38;5;241m.\u001b[39mjava_exception)\n\u001b[1;32m    114\u001b[0m \u001b[38;5;28;01mif\u001b[39;00m \u001b[38;5;129;01mnot\u001b[39;00m \u001b[38;5;28misinstance\u001b[39m(converted, UnknownException):\n\u001b[1;32m    115\u001b[0m     \u001b[38;5;66;03m# Hide where the exception came from that shows a non-Pythonic\u001b[39;00m\n\u001b[1;32m    116\u001b[0m     \u001b[38;5;66;03m# JVM exception message.\u001b[39;00m\n\u001b[0;32m--> 117\u001b[0m     \u001b[38;5;28;01mraise\u001b[39;00m converted \u001b[38;5;28;01mfrom\u001b[39;00m \u001b[38;5;28mNone\u001b[39m\n\u001b[1;32m    118\u001b[0m \u001b[38;5;28;01melse\u001b[39;00m:\n\u001b[1;32m    119\u001b[0m     \u001b[38;5;28;01mraise\u001b[39;00m\n",
      "\u001b[0;31mIllegalArgumentException\u001b[0m: Data type string of column City is not supported.\nData type string of column State is not supported.\nData type string of column Zip is not supported.\nData type string of column Bank is not supported.\nData type string of column BankState is not supported.\nData type string of column NAICS is not supported.\nData type string of column ApprovalDate is not supported.\nData type string of column ApprovalFY is not supported.\nData type string of column RevLineCr is not supported.\nData type string of column LowDoc is not supported.\nData type string of column MIS_Status is not supported.\nData type string of column ChgOffPrinGr is not supported.\nData type string of column GrAppv is not supported.\nData type string of column SBA_Appv is not supported."
     ]
    }
   ],
   "source": [
    "assembler = VectorAssembler(\n",
    "  inputCols=['City',\n",
    " 'State',\n",
    " 'Zip',\n",
    " 'Bank',\n",
    " 'BankState',\n",
    " 'NAICS',\n",
    " 'ApprovalDate',\n",
    " 'ApprovalFY',\n",
    " 'RevLineCr',\n",
    " 'LowDoc',\n",
    " 'MIS_Status',\n",
    " 'ChgOffPrinGr',\n",
    " 'GrAppv',\n",
    " 'SBA_Appv',\n",
    " 'Term',\n",
    " 'NoEmp',\n",
    " 'NewExist',\n",
    " 'CreateJob',\n",
    " 'RetainedJob',\n",
    " 'FranchiseCode',\n",
    " 'UrbanRural'],\n",
    "  outputCol=\"features\")\n",
    "\n",
    "output = assembler.transform(df)"
   ]
  },
  {
   "cell_type": "code",
   "execution_count": 23,
   "id": "a082f4ff",
   "metadata": {},
   "outputs": [],
   "source": [
    "# # Let's select the two columns we want. Features (which contains vectors), and the predictor.\n",
    "# final_data = output_fixed.select([\n",
    "# 'MIS_Status_Index',\n",
    "#  'City_Index',\n",
    "#  'State_Index',\n",
    "#  'Zip_Index',\n",
    "#  'Bank_Index',\n",
    "#  'BankState_Index',\n",
    "#  'NAICS_Index',\n",
    "#  'ApprovalDate_Index',\n",
    "#  'ApprovalFY_Index',\n",
    "#  'RevLineCr_Index',\n",
    "#  'LowDoc_Index',\n",
    "#  'MIS_Status_Index',\n",
    "#  'ChgOffPrinGr_Index',\n",
    "#  'GrAppv_Index',\n",
    "#  'SBA_Appv_Index',\n",
    "#  'Term',\n",
    "#  'NoEmp',\n",
    "#  'NewExist',\n",
    "#  'CreateJob',\n",
    "#  'RetainedJob',\n",
    "#  'FranchiseCode',\n",
    "#  'UrbanRural'])"
   ]
  },
  {
   "cell_type": "markdown",
   "id": "bb94fd95",
   "metadata": {},
   "source": [
    "## 7. Data Mining"
   ]
  },
  {
   "cell_type": "code",
   "execution_count": 3,
   "id": "5278af4f",
   "metadata": {},
   "outputs": [
    {
     "name": "stderr",
     "output_type": "stream",
     "text": [
      "[Stage 2:>                                                          (0 + 2) / 2]\r"
     ]
    },
    {
     "name": "stdout",
     "output_type": "stream",
     "text": [
      "+----------+------+\n",
      "|MIS_Status| count|\n",
      "+----------+------+\n",
      "|      null|  1997|\n",
      "|     P I F|739546|\n",
      "|    CHGOFF|157553|\n",
      "|    $0.00 |    68|\n",
      "+----------+------+\n",
      "\n"
     ]
    },
    {
     "name": "stderr",
     "output_type": "stream",
     "text": [
      "                                                                                \r"
     ]
    }
   ],
   "source": [
    "df.groupby(\"MIS_Status\").count().show()"
   ]
  },
  {
   "cell_type": "code",
   "execution_count": 14,
   "id": "a49db37c",
   "metadata": {},
   "outputs": [
    {
     "name": "stderr",
     "output_type": "stream",
     "text": [
      "[Stage 6:>                                                          (0 + 1) / 1]\r"
     ]
    },
    {
     "name": "stdout",
     "output_type": "stream",
     "text": [
      "+--------+-----------+-----+--------------------+--------------------+-----+------------+----------+----+-----+--------+---------+-----------+-------------+----------+---------+------+----------+----------------+-----------------+------------+----------+------------+------------+--------------+\n",
      "|    City|      State|  Zip|                Bank|           BankState|NAICS|ApprovalDate|ApprovalFY|Term|NoEmp|NewExist|CreateJob|RetainedJob|FranchiseCode|UrbanRural|RevLineCr|LowDoc|ChgOffDate|DisbursementDate|DisbursementGross|BalanceGross|MIS_Status|ChgOffPrinGr|      GrAppv|      SBA_Appv|\n",
      "+--------+-----------+-----+--------------------+--------------------+-----+------------+----------+----+-----+--------+---------+-----------+-------------+----------+---------+------+----------+----------------+-----------------+------------+----------+------------+------------+--------------+\n",
      "|    null|         CA|92102|CDC SMALL BUS. FI...|                  CA|    0|   16-Apr-81|      1981| 180|   45|       2|        0|          0|            0|         0|        N|     N|      null|        6-Jan-82|     $488,000.00 |      $0.00 |     P I F|      $0.00 |$488,000.00 |  $488,000.00 |\n",
      "|    null|         CA|92102|CDC SMALL BUS. FI...|                  CA|    0|   29-Jul-81|      1981| 240|   20|       2|        0|          0|            0|         0|        N|     N|      null|       10-Sep-81|     $159,000.00 |      $0.00 |     P I F|      $0.00 |$159,000.00 |  $159,000.00 |\n",
      "|    null|         CA|92102|CDC SMALL BUS. FI...|                  CA|    0|   31-Aug-81|      1981| 240|   26|       2|        0|          0|            0|         0|        N|     N|      null|        4-Nov-81|     $365,000.00 |      $0.00 |     P I F|      $0.00 |$365,000.00 |  $365,000.00 |\n",
      "|    null|         IL|60624|BANK - AMERICA NA...|                  IL|    0|   10-Apr-81|      1981| 300|   10|       2|        0|          0|            0|         0|        N|     N|      null|        4-Nov-81|     $150,000.00 |      $0.00 |     P I F|      $0.00 |$150,000.00 |  $150,000.00 |\n",
      "|    null|         MA| 2169|SOUTH SHORE ECONO...|                  MA|    0|   17-Mar-81|      1981| 180|   60|       1|        0|          0|            0|         0|        N|     N|      null|        6-Jan-82|     $210,000.00 |      $0.00 |     P I F|      $0.00 |$210,000.00 |  $210,000.00 |\n",
      "|    null|         MO|63103|ST. LOUIS LOCAL D...|                  MO|    0|   16-Oct-81|      1982| 300|    2|       1|        0|          0|            0|         0|        N|     N|      null|        6-Jan-82|      $25,000.00 |      $0.00 |     P I F|      $0.00 | $25,000.00 |   $25,000.00 |\n",
      "|    null|         MO|63103|ST. LOUIS LOCAL D...|                  MO|    0|   30-Nov-81|      1982| 180|    4|       2|        0|          0|            0|         0|        N|     N|      null|       10-Feb-82|      $71,000.00 |      $0.00 |     P I F|      $0.00 | $71,000.00 |   $71,000.00 |\n",
      "|    null|         MO|64106|EDC LOAN CORPORATION|                  MO|    0|   12-Mar-81|      1981| 240|   12|       1|        0|          0|            0|         0|        N|     N|      null|        1-Jun-81|      $50,000.00 |      $0.00 |     P I F|      $0.00 | $52,000.00 |   $52,000.00 |\n",
      "|    null|         NE|50309|IOWA BUSINESS GRO...|                  IA|    0|    7-Oct-81|      1982| 180|   10|       2|        0|          0|            0|         0|        N|     N|      null|        6-Jan-82|     $225,000.00 |      $0.00 |     P I F|      $0.00 |$225,000.00 |  $225,000.00 |\n",
      "|    null|         WA|98104|EVERGREEN BUSINES...|                  WA|    0|    8-Jun-81|      1981| 300|   15|       1|        0|          0|            0|         0|        N|     N|      null|       10-Feb-82|     $458,000.00 |      $0.00 |     P I F|      $0.00 |$458,000.00 |  $458,000.00 |\n",
      "|   INC.\"|      BOISE|   ID|               83705|WELLS FARGO BANK ...|   SD|           0| 23-Mar-90|1990|  180|      20|        1|          0|            0|         1|        0|     N|         N|            null|        30-Apr-90| $48,000.00 |    $0.00 |       P I F|      $0.00 |   $48,000.00 |\n",
      "|   INC.\"|      BUTTE|   MT|               59701|FIRST CITIZENS BA...|   MT|           0| 23-Sep-97|1997|   60|      80|        1|          0|            0|     63345|        0|     N|         N|            null|        31-Oct-97|$150,000.00 |    $0.00 |       P I F|      $0.00 |  $150,000.00 |\n",
      "|   INC.\"|    HUNTLEY|   IL|               60142|HOME ST. BANK/NAT...|   IL|           0|  7-Apr-99|1999|   60|       3|        2|          0|            0|         1|        0|     0|         Y|            null|        30-Sep-00| $65,000.00 |    $0.00 |       P I F|      $0.00 |   $65,000.00 |\n",
      "|   INC.\"|     LAYTON|   UT|               84041| UTAH CERT. DEVEL CO|   UT|           0| 17-Apr-00|2000|  240|       6|        1|          3|            0|         1|        1|     N|         N|            null|        14-Jun-00| $84,000.00 |    $0.00 |       P I F|      $0.00 |   $84,000.00 |\n",
      "|   INC.\"|LETOHATCHEE|   AL|               36047|        REGIONS BANK|   AL|           0|  8-Aug-89|1989|   60|       5|        1|          0|            0|         1|        0|     N|         N|            null|        31-Oct-89|$115,000.00 |    $0.00 |       P I F|      $0.00 |  $115,000.00 |\n",
      "|   INC.\"|    MARENGO|   IA|               52301|BANK OF AMERICA N...|   NC|           0| 26-Oct-90|1991|   66|      25|        1|          0|            0|         1|        0|     N|         N|            null|        30-Apr-91|$113,000.00 |    $0.00 |       P I F|      $0.00 |  $113,000.00 |\n",
      "|   INC.\"|    MARENGO|   IA|               52301|IOWA BUSINESS GRO...|   IA|           0| 28-Apr-98|1998|  240|      44|        1|         10|            0|         1|        0|     N|         N|            null|        14-Apr-99|$897,000.00 |    $0.00 |       P I F|      $0.00 |$1,000,000.00 |\n",
      "|   INC.\"|    MEMPHIS|   TN|               38109|BANK OF AMERICA N...|   TN|      115111| 25-Oct-88|1989|  120|      45|        1|          0|            0|         0|        0|     N|         N|            null|        31-Jan-89|$575,000.00 |    $0.00 |       P I F|      $0.00 |  $575,000.00 |\n",
      "|   INC.\"|  VICKSBURG|   MS|               39180|        REGIONS BANK|   AL|           0| 11-May-90|1990|  120|      32|        2|          0|            0|         1|        0|     N|         N|            null|        31-Jul-90|$612,000.00 |    $0.00 |       P I F|      $0.00 |  $612,000.00 |\n",
      "| L.L.C.\"|    NORFOLK|   NE|               68701| MADISON COUNTY BANK|   NE|      451110| 15-Oct-99|2000|   57|       4|        2|          0|            0|         1|        1|     0|         Y|       19-Jul-02|        31-Jan-00| $65,000.00 |    $0.00 |      CHGOFF| $20,327.00 |   $65,000.00 |\n",
      "+--------+-----------+-----+--------------------+--------------------+-----+------------+----------+----+-----+--------+---------+-----------+-------------+----------+---------+------+----------+----------------+-----------------+------------+----------+------------+------------+--------------+\n",
      "only showing top 20 rows\n",
      "\n"
     ]
    },
    {
     "name": "stderr",
     "output_type": "stream",
     "text": [
      "                                                                                \r"
     ]
    }
   ],
   "source": [
    "pipeline = Pipeline(stages=[indexer,encoder])\n",
    "\n",
    "# Split the training and testing set.\n",
    "\n",
    "train_data,test_data = df.randomSplit([0.5,0.5])\n",
    "# train_data.show()"
   ]
  },
  {
   "cell_type": "code",
   "execution_count": 17,
   "id": "e4610bfe",
   "metadata": {},
   "outputs": [
    {
     "name": "stderr",
     "output_type": "stream",
     "text": [
      "                                                                                \r"
     ]
    },
    {
     "ename": "IllegalArgumentException",
     "evalue": "features does not exist. Available: City, State, Zip, Bank, BankState, NAICS, ApprovalDate, ApprovalFY, Term, NoEmp, NewExist, CreateJob, RetainedJob, FranchiseCode, UrbanRural, RevLineCr, LowDoc, ChgOffDate, DisbursementDate, DisbursementGross, BalanceGross, MIS_Status, ChgOffPrinGr, GrAppv, SBA_Appv",
     "output_type": "error",
     "traceback": [
      "\u001b[0;31m---------------------------------------------------------------------------\u001b[0m",
      "\u001b[0;31mIllegalArgumentException\u001b[0m                  Traceback (most recent call last)",
      "Input \u001b[0;32mIn [17]\u001b[0m, in \u001b[0;36m<cell line: 6>\u001b[0;34m()\u001b[0m\n\u001b[1;32m      3\u001b[0m results \u001b[38;5;241m=\u001b[39m fit_model\u001b[38;5;241m.\u001b[39mtransform(test_data)\n\u001b[1;32m      5\u001b[0m dtc \u001b[38;5;241m=\u001b[39m DecisionTreeClassifier(labelCol\u001b[38;5;241m=\u001b[39m\u001b[38;5;124m'\u001b[39m\u001b[38;5;124mMIS_Status_Index\u001b[39m\u001b[38;5;124m'\u001b[39m,featuresCol\u001b[38;5;241m=\u001b[39m\u001b[38;5;124m'\u001b[39m\u001b[38;5;124mfeatures\u001b[39m\u001b[38;5;124m'\u001b[39m)\n\u001b[0;32m----> 6\u001b[0m dtc_model \u001b[38;5;241m=\u001b[39m \u001b[43mdtc\u001b[49m\u001b[38;5;241;43m.\u001b[39;49m\u001b[43mfit\u001b[49m\u001b[43m(\u001b[49m\u001b[43mtrain_data\u001b[49m\u001b[43m)\u001b[49m\n",
      "File \u001b[0;32m~/spark-3.2.1-bin-hadoop2.7/python/pyspark/ml/base.py:161\u001b[0m, in \u001b[0;36mEstimator.fit\u001b[0;34m(self, dataset, params)\u001b[0m\n\u001b[1;32m    159\u001b[0m         \u001b[38;5;28;01mreturn\u001b[39;00m \u001b[38;5;28mself\u001b[39m\u001b[38;5;241m.\u001b[39mcopy(params)\u001b[38;5;241m.\u001b[39m_fit(dataset)\n\u001b[1;32m    160\u001b[0m     \u001b[38;5;28;01melse\u001b[39;00m:\n\u001b[0;32m--> 161\u001b[0m         \u001b[38;5;28;01mreturn\u001b[39;00m \u001b[38;5;28;43mself\u001b[39;49m\u001b[38;5;241;43m.\u001b[39;49m\u001b[43m_fit\u001b[49m\u001b[43m(\u001b[49m\u001b[43mdataset\u001b[49m\u001b[43m)\u001b[49m\n\u001b[1;32m    162\u001b[0m \u001b[38;5;28;01melse\u001b[39;00m:\n\u001b[1;32m    163\u001b[0m     \u001b[38;5;28;01mraise\u001b[39;00m \u001b[38;5;167;01mTypeError\u001b[39;00m(\u001b[38;5;124m\"\u001b[39m\u001b[38;5;124mParams must be either a param map or a list/tuple of param maps, \u001b[39m\u001b[38;5;124m\"\u001b[39m\n\u001b[1;32m    164\u001b[0m                     \u001b[38;5;124m\"\u001b[39m\u001b[38;5;124mbut got \u001b[39m\u001b[38;5;132;01m%s\u001b[39;00m\u001b[38;5;124m.\u001b[39m\u001b[38;5;124m\"\u001b[39m \u001b[38;5;241m%\u001b[39m \u001b[38;5;28mtype\u001b[39m(params))\n",
      "File \u001b[0;32m~/spark-3.2.1-bin-hadoop2.7/python/pyspark/ml/wrapper.py:335\u001b[0m, in \u001b[0;36mJavaEstimator._fit\u001b[0;34m(self, dataset)\u001b[0m\n\u001b[1;32m    334\u001b[0m \u001b[38;5;28;01mdef\u001b[39;00m \u001b[38;5;21m_fit\u001b[39m(\u001b[38;5;28mself\u001b[39m, dataset):\n\u001b[0;32m--> 335\u001b[0m     java_model \u001b[38;5;241m=\u001b[39m \u001b[38;5;28;43mself\u001b[39;49m\u001b[38;5;241;43m.\u001b[39;49m\u001b[43m_fit_java\u001b[49m\u001b[43m(\u001b[49m\u001b[43mdataset\u001b[49m\u001b[43m)\u001b[49m\n\u001b[1;32m    336\u001b[0m     model \u001b[38;5;241m=\u001b[39m \u001b[38;5;28mself\u001b[39m\u001b[38;5;241m.\u001b[39m_create_model(java_model)\n\u001b[1;32m    337\u001b[0m     \u001b[38;5;28;01mreturn\u001b[39;00m \u001b[38;5;28mself\u001b[39m\u001b[38;5;241m.\u001b[39m_copyValues(model)\n",
      "File \u001b[0;32m~/spark-3.2.1-bin-hadoop2.7/python/pyspark/ml/wrapper.py:332\u001b[0m, in \u001b[0;36mJavaEstimator._fit_java\u001b[0;34m(self, dataset)\u001b[0m\n\u001b[1;32m    318\u001b[0m \u001b[38;5;124;03m\"\"\"\u001b[39;00m\n\u001b[1;32m    319\u001b[0m \u001b[38;5;124;03mFits a Java model to the input dataset.\u001b[39;00m\n\u001b[1;32m    320\u001b[0m \n\u001b[0;32m   (...)\u001b[0m\n\u001b[1;32m    329\u001b[0m \u001b[38;5;124;03m    fitted Java model\u001b[39;00m\n\u001b[1;32m    330\u001b[0m \u001b[38;5;124;03m\"\"\"\u001b[39;00m\n\u001b[1;32m    331\u001b[0m \u001b[38;5;28mself\u001b[39m\u001b[38;5;241m.\u001b[39m_transfer_params_to_java()\n\u001b[0;32m--> 332\u001b[0m \u001b[38;5;28;01mreturn\u001b[39;00m \u001b[38;5;28;43mself\u001b[39;49m\u001b[38;5;241;43m.\u001b[39;49m\u001b[43m_java_obj\u001b[49m\u001b[38;5;241;43m.\u001b[39;49m\u001b[43mfit\u001b[49m\u001b[43m(\u001b[49m\u001b[43mdataset\u001b[49m\u001b[38;5;241;43m.\u001b[39;49m\u001b[43m_jdf\u001b[49m\u001b[43m)\u001b[49m\n",
      "File \u001b[0;32m~/spark-3.2.1-bin-hadoop2.7/python/lib/py4j-0.10.9.3-src.zip/py4j/java_gateway.py:1321\u001b[0m, in \u001b[0;36mJavaMember.__call__\u001b[0;34m(self, *args)\u001b[0m\n\u001b[1;32m   1315\u001b[0m command \u001b[38;5;241m=\u001b[39m proto\u001b[38;5;241m.\u001b[39mCALL_COMMAND_NAME \u001b[38;5;241m+\u001b[39m\\\n\u001b[1;32m   1316\u001b[0m     \u001b[38;5;28mself\u001b[39m\u001b[38;5;241m.\u001b[39mcommand_header \u001b[38;5;241m+\u001b[39m\\\n\u001b[1;32m   1317\u001b[0m     args_command \u001b[38;5;241m+\u001b[39m\\\n\u001b[1;32m   1318\u001b[0m     proto\u001b[38;5;241m.\u001b[39mEND_COMMAND_PART\n\u001b[1;32m   1320\u001b[0m answer \u001b[38;5;241m=\u001b[39m \u001b[38;5;28mself\u001b[39m\u001b[38;5;241m.\u001b[39mgateway_client\u001b[38;5;241m.\u001b[39msend_command(command)\n\u001b[0;32m-> 1321\u001b[0m return_value \u001b[38;5;241m=\u001b[39m \u001b[43mget_return_value\u001b[49m\u001b[43m(\u001b[49m\n\u001b[1;32m   1322\u001b[0m \u001b[43m    \u001b[49m\u001b[43manswer\u001b[49m\u001b[43m,\u001b[49m\u001b[43m \u001b[49m\u001b[38;5;28;43mself\u001b[39;49m\u001b[38;5;241;43m.\u001b[39;49m\u001b[43mgateway_client\u001b[49m\u001b[43m,\u001b[49m\u001b[43m \u001b[49m\u001b[38;5;28;43mself\u001b[39;49m\u001b[38;5;241;43m.\u001b[39;49m\u001b[43mtarget_id\u001b[49m\u001b[43m,\u001b[49m\u001b[43m \u001b[49m\u001b[38;5;28;43mself\u001b[39;49m\u001b[38;5;241;43m.\u001b[39;49m\u001b[43mname\u001b[49m\u001b[43m)\u001b[49m\n\u001b[1;32m   1324\u001b[0m \u001b[38;5;28;01mfor\u001b[39;00m temp_arg \u001b[38;5;129;01min\u001b[39;00m temp_args:\n\u001b[1;32m   1325\u001b[0m     temp_arg\u001b[38;5;241m.\u001b[39m_detach()\n",
      "File \u001b[0;32m~/spark-3.2.1-bin-hadoop2.7/python/pyspark/sql/utils.py:117\u001b[0m, in \u001b[0;36mcapture_sql_exception.<locals>.deco\u001b[0;34m(*a, **kw)\u001b[0m\n\u001b[1;32m    113\u001b[0m converted \u001b[38;5;241m=\u001b[39m convert_exception(e\u001b[38;5;241m.\u001b[39mjava_exception)\n\u001b[1;32m    114\u001b[0m \u001b[38;5;28;01mif\u001b[39;00m \u001b[38;5;129;01mnot\u001b[39;00m \u001b[38;5;28misinstance\u001b[39m(converted, UnknownException):\n\u001b[1;32m    115\u001b[0m     \u001b[38;5;66;03m# Hide where the exception came from that shows a non-Pythonic\u001b[39;00m\n\u001b[1;32m    116\u001b[0m     \u001b[38;5;66;03m# JVM exception message.\u001b[39;00m\n\u001b[0;32m--> 117\u001b[0m     \u001b[38;5;28;01mraise\u001b[39;00m converted \u001b[38;5;28;01mfrom\u001b[39;00m \u001b[38;5;28mNone\u001b[39m\n\u001b[1;32m    118\u001b[0m \u001b[38;5;28;01melse\u001b[39;00m:\n\u001b[1;32m    119\u001b[0m     \u001b[38;5;28;01mraise\u001b[39;00m\n",
      "\u001b[0;31mIllegalArgumentException\u001b[0m: features does not exist. Available: City, State, Zip, Bank, BankState, NAICS, ApprovalDate, ApprovalFY, Term, NoEmp, NewExist, CreateJob, RetainedJob, FranchiseCode, UrbanRural, RevLineCr, LowDoc, ChgOffDate, DisbursementDate, DisbursementGross, BalanceGross, MIS_Status, ChgOffPrinGr, GrAppv, SBA_Appv"
     ]
    }
   ],
   "source": [
    "from pyspark.ml.classification import DecisionTreeClassifier,GBTClassifier,RandomForestClassifier\n",
    "fit_model = pipeline.fit(train_data)\n",
    "results = fit_model.transform(test_data)\n",
    "\n",
    "dtc = DecisionTreeClassifier(labelCol='MIS_Status_Index',featuresCol='features')\n",
    "dtc_model = dtc.fit(train_data)\n",
    "# dtc_predictions = dtc_model.transform(test_data)"
   ]
  },
  {
   "cell_type": "code",
   "execution_count": null,
   "id": "f5c9bb0f",
   "metadata": {},
   "outputs": [],
   "source": [
    "from pyspark.ml.evaluation import BinaryClassificationEvaluator\n",
    "my_binary_eval = BinaryClassificationEvaluator(labelCol = 'MIS_Status_Index')\n"
   ]
  }
 ],
 "metadata": {
  "kernelspec": {
   "display_name": "Python 3 (ipykernel)",
   "language": "python",
   "name": "python3"
  },
  "language_info": {
   "codemirror_mode": {
    "name": "ipython",
    "version": 3
   },
   "file_extension": ".py",
   "mimetype": "text/x-python",
   "name": "python",
   "nbconvert_exporter": "python",
   "pygments_lexer": "ipython3",
   "version": "3.10.4"
  }
 },
 "nbformat": 4,
 "nbformat_minor": 5
}
